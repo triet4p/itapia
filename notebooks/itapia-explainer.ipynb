{
 "cells": [
  {
   "cell_type": "code",
   "execution_count": null,
   "metadata": {
    "execution": {
     "iopub.execute_input": "2025-07-19T15:04:54.645258Z",
     "iopub.status.busy": "2025-07-19T15:04:54.644935Z",
     "iopub.status.idle": "2025-07-19T15:04:55.751416Z",
     "shell.execute_reply": "2025-07-19T15:04:55.750194Z",
     "shell.execute_reply.started": "2025-07-19T15:04:54.645225Z"
    },
    "trusted": true
   },
   "outputs": [],
   "source": [
    "#!git clone https://github.com/triet4p/itapia.git"
   ]
  },
  {
   "cell_type": "markdown",
   "metadata": {},
   "source": [
    "# 1. Preparing data and library"
   ]
  },
  {
   "cell_type": "code",
   "execution_count": null,
   "metadata": {
    "execution": {
     "iopub.execute_input": "2025-07-19T15:05:06.249953Z",
     "iopub.status.busy": "2025-07-19T15:05:06.248826Z",
     "iopub.status.idle": "2025-07-19T15:05:06.255222Z",
     "shell.execute_reply": "2025-07-19T15:05:06.253888Z",
     "shell.execute_reply.started": "2025-07-19T15:05:06.249886Z"
    },
    "trusted": true
   },
   "outputs": [],
   "source": [
    "import sys\n",
    "import os\n",
    "sys.path.append(\"F:\\\\ai-ml\\\\itapia\\\\ai_service_quick\")"
   ]
  },
  {
   "cell_type": "code",
   "execution_count": null,
   "metadata": {
    "execution": {
     "iopub.execute_input": "2025-07-19T15:05:07.799836Z",
     "iopub.status.busy": "2025-07-19T15:05:07.799535Z",
     "iopub.status.idle": "2025-07-19T15:05:07.805289Z",
     "shell.execute_reply": "2025-07-19T15:05:07.804172Z",
     "shell.execute_reply.started": "2025-07-19T15:05:07.799813Z"
    },
    "trusted": true
   },
   "outputs": [],
   "source": [
    "import os\n",
    "os.environ['KAGGLE_USERNAME'] = 'trietp1253201581'\n",
    "os.environ['KAGGLE_KEY'] = 'aa7316d3216ad11dd599a97d7817dc10'"
   ]
  },
  {
   "cell_type": "code",
   "execution_count": null,
   "metadata": {
    "execution": {
     "iopub.execute_input": "2025-07-19T15:05:08.855504Z",
     "iopub.status.busy": "2025-07-19T15:05:08.855184Z",
     "iopub.status.idle": "2025-07-19T15:05:14.812885Z",
     "shell.execute_reply": "2025-07-19T15:05:14.811682Z",
     "shell.execute_reply.started": "2025-07-19T15:05:08.855482Z"
    },
    "trusted": true
   },
   "outputs": [],
   "source": [
    "#!pip install python-dotenv"
   ]
  },
  {
   "cell_type": "code",
   "execution_count": null,
   "metadata": {
    "execution": {
     "iopub.execute_input": "2025-07-19T15:05:18.483291Z",
     "iopub.status.busy": "2025-07-19T15:05:18.482898Z",
     "iopub.status.idle": "2025-07-19T15:05:35.949137Z",
     "shell.execute_reply": "2025-07-19T15:05:35.948109Z",
     "shell.execute_reply.started": "2025-07-19T15:05:18.483256Z"
    },
    "trusted": true
   },
   "outputs": [],
   "source": [
    "from datetime import datetime\n",
    "import pandas as pd\n",
    "import numpy as np\n",
    "import pickle\n",
    "import json\n",
    "\n",
    "from numpy.lib.stride_tricks import sliding_window_view\n",
    "\n",
    "# Machine Learning & Validation\n",
    "from sklearn.model_selection import TimeSeriesSplit\n",
    "from sklearn.feature_selection import mutual_info_classif, mutual_info_regression\n",
    "from sklearn.metrics import f1_score, precision_score, recall_score\n",
    "from sklearn.linear_model import LogisticRegression, LinearRegression\n",
    "from sklearn.naive_bayes import MultinomialNB\n",
    "from sklearn.svm import SVC, SVR\n",
    "from sklearn.tree import DecisionTreeRegressor, DecisionTreeClassifier\n",
    "from sklearn.ensemble import RandomForestRegressor, RandomForestClassifier\n",
    "from sklearn.multioutput import MultiOutputRegressor\n",
    "from lightgbm import LGBMRegressor, LGBMClassifier \n",
    "#from xgboost import XGBRegressor, XGBClassifier\n",
    "# Hyperparameter Tuning (khuyến nghị)\n",
    "import optuna \n",
    "\n",
    "# Explainability\n",
    "import shap\n",
    "\n",
    "# Visualization\n",
    "import matplotlib.pyplot as plt\n",
    "import seaborn as sns\n",
    "\n",
    "from app.forecasting.training import TrainingOrchestrator\n",
    "from app.forecasting.task.triple_barrier import TripleBarrierTask, find_triple_barrier_optimal_params\n",
    "from app.forecasting.task.ndays_distribution import NDaysDistributionTask\n",
    "from app.forecasting.model import ScikitLearnForecastingModel\n",
    "from app.forecasting.training.data_split import train_test_split\n",
    "from app.forecasting.post_processing import NDaysDistributionPostProcessor, RoundingProcessor\n",
    "from app.forecasting.training.optim import LGBMClassifierObjective, MultiOutLGBMRegressionObjective, get_best_params_for_kernel_model\n",
    "from app.forecasting.training.data_split import get_walk_forward_splits\n",
    "from app.core.utils import FORECASTING_TRAINING_BONUS_FEATURES, FORECASTING_TRAINING_SCORE_WEIGHTS\n",
    "import app.core.config as cfg\n",
    "\n",
    "# Cấu hình notebook\n",
    "pd.set_option('display.max_columns', 100)\n",
    "shap.initjs()"
   ]
  },
  {
   "cell_type": "code",
   "execution_count": null,
   "metadata": {
    "execution": {
     "iopub.execute_input": "2025-07-19T15:06:48.860618Z",
     "iopub.status.busy": "2025-07-19T15:06:48.859934Z",
     "iopub.status.idle": "2025-07-19T15:06:48.865414Z",
     "shell.execute_reply": "2025-07-19T15:06:48.864315Z",
     "shell.execute_reply.started": "2025-07-19T15:06:48.860588Z"
    },
    "trusted": true
   },
   "outputs": [],
   "source": [
    "SECTOR = 'TECH'"
   ]
  },
  {
   "cell_type": "code",
   "execution_count": null,
   "metadata": {
    "trusted": true
   },
   "outputs": [],
   "source": [
    "task1_id = cfg.TASK_ID_SECTOR_TEMPLATE.format(\n",
    "    problem=cfg.TRIPLE_BARRIER_PROBLEM_ID,\n",
    "    sector=SECTOR\n",
    ")\n",
    "task1 = TripleBarrierTask(task1_id)"
   ]
  },
  {
   "cell_type": "code",
   "execution_count": null,
   "metadata": {},
   "outputs": [],
   "source": [
    "model1 = ScikitLearnForecastingModel('LGBM')"
   ]
  },
  {
   "cell_type": "code",
   "execution_count": null,
   "metadata": {},
   "outputs": [],
   "source": [
    "model1.assign_task(task1)"
   ]
  },
  {
   "cell_type": "code",
   "execution_count": null,
   "metadata": {},
   "outputs": [],
   "source": [
    "model1.load_model_from_kaggle(cfg.KAGGLE_USERNAME)"
   ]
  },
  {
   "cell_type": "code",
   "execution_count": null,
   "metadata": {},
   "outputs": [],
   "source": [
    "model1.kernel_model"
   ]
  },
  {
   "cell_type": "code",
   "execution_count": null,
   "metadata": {},
   "outputs": [],
   "source": [
    "enriched_df = pd.read_csv(f'F:\\\\ai-ml\\\\itapia\\\\ai_service_quick\\\\local\\\\training_{SECTOR}.csv', index_col='datetime_utc')\n",
    "enriched_df.index = pd.to_datetime(enriched_df.index)\n",
    "df = enriched_df.copy()"
   ]
  },
  {
   "cell_type": "code",
   "execution_count": null,
   "metadata": {},
   "outputs": [],
   "source": [
    "X_instance = pd.DataFrame(df[df.ticker == 'AAPL'].loc[pd.to_datetime(\"2025-06-03\", utc=True):pd.to_datetime(\"2025-06-03\", utc=True)])"
   ]
  },
  {
   "cell_type": "code",
   "execution_count": null,
   "metadata": {},
   "outputs": [],
   "source": [
    "X_instance = X_instance[task1.selected_features]"
   ]
  },
  {
   "cell_type": "code",
   "execution_count": null,
   "metadata": {},
   "outputs": [],
   "source": [
    "from app.forecasting.explainer import TreeSHAPExplainer"
   ]
  },
  {
   "cell_type": "code",
   "execution_count": null,
   "metadata": {},
   "outputs": [],
   "source": [
    "explainer = TreeSHAPExplainer(model1)"
   ]
  },
  {
   "cell_type": "code",
   "execution_count": null,
   "metadata": {},
   "outputs": [],
   "source": [
    "model1.predict(X_instance)"
   ]
  },
  {
   "cell_type": "code",
   "execution_count": null,
   "metadata": {},
   "outputs": [],
   "source": [
    "explainer.explain_prediction(X_instance)"
   ]
  },
  {
   "cell_type": "code",
   "execution_count": null,
   "metadata": {},
   "outputs": [],
   "source": [
    "task2_id = cfg.TASK_ID_SECTOR_TEMPLATE.format(\n",
    "    problem=cfg.REG_5D_DIS_PROBLEM_ID,\n",
    "    sector=SECTOR\n",
    ")\n",
    "task2 = NDaysDistributionTask(task2_id, 5)"
   ]
  },
  {
   "cell_type": "code",
   "execution_count": null,
   "metadata": {},
   "outputs": [],
   "source": [
    "rnd_prc = RoundingProcessor(4)\n",
    "n5d_prc = NDaysDistributionPostProcessor(task2)"
   ]
  },
  {
   "cell_type": "code",
   "execution_count": null,
   "metadata": {},
   "outputs": [],
   "source": [
    "model2 = ScikitLearnForecastingModel('Multi-LGBM')\n",
    "model2.assign_task(task2)"
   ]
  },
  {
   "cell_type": "code",
   "execution_count": null,
   "metadata": {},
   "outputs": [],
   "source": [
    "model2.load_model_from_kaggle(cfg.KAGGLE_USERNAME)"
   ]
  },
  {
   "cell_type": "code",
   "execution_count": null,
   "metadata": {},
   "outputs": [],
   "source": [
    "model2.kernel_model"
   ]
  },
  {
   "cell_type": "code",
   "execution_count": null,
   "metadata": {},
   "outputs": [],
   "source": [
    "from app.forecasting.explainer import MultiOutputTreeSHAPExplainer\n",
    "explainer2 = MultiOutputTreeSHAPExplainer(model2)"
   ]
  },
  {
   "cell_type": "code",
   "execution_count": null,
   "metadata": {},
   "outputs": [],
   "source": [
    "model2.post_processors = []\n",
    "model2.post_processors.append(rnd_prc)\n",
    "model2.post_processors.append(n5d_prc)"
   ]
  },
  {
   "cell_type": "code",
   "execution_count": null,
   "metadata": {},
   "outputs": [],
   "source": [
    "model2.predict(X_instance)"
   ]
  },
  {
   "cell_type": "code",
   "execution_count": null,
   "metadata": {},
   "outputs": [],
   "source": [
    "explainer2.explain_prediction(X_instance)"
   ]
  },
  {
   "cell_type": "code",
   "execution_count": null,
   "metadata": {},
   "outputs": [],
   "source": [
    "orchestrator = TrainingOrchestrator(df)"
   ]
  },
  {
   "cell_type": "code",
   "execution_count": null,
   "metadata": {},
   "outputs": [],
   "source": [
    "orchestrator.register_model_for_task(model1, task1)\n",
    "orchestrator.register_model_for_task(model2, task2)"
   ]
  },
  {
   "cell_type": "code",
   "execution_count": null,
   "metadata": {},
   "outputs": [],
   "source": [
    "orchestrator.prepare_all_targets()"
   ]
  },
  {
   "cell_type": "code",
   "execution_count": null,
   "metadata": {},
   "outputs": [],
   "source": [
    "vdf = orchestrator.df_with_targets.copy()"
   ]
  },
  {
   "cell_type": "code",
   "execution_count": null,
   "metadata": {},
   "outputs": [],
   "source": [
    "vdf[vdf.ticker == 'AAPL'].loc[pd.to_datetime(\"2025-06-02\", utc=True)][-8:]"
   ]
  }
 ],
 "metadata": {
  "kaggle": {
   "accelerator": "none",
   "dataSources": [
    {
     "datasetId": 7875839,
     "sourceId": 12515363,
     "sourceType": "datasetVersion"
    }
   ],
   "dockerImageVersionId": 31089,
   "isGpuEnabled": false,
   "isInternetEnabled": true,
   "language": "python",
   "sourceType": "notebook"
  },
  "kernelspec": {
   "display_name": "Python 3",
   "language": "python",
   "name": "python3"
  },
  "language_info": {
   "codemirror_mode": {
    "name": "ipython",
    "version": 3
   },
   "file_extension": ".py",
   "mimetype": "text/x-python",
   "name": "python",
   "nbconvert_exporter": "python",
   "pygments_lexer": "ipython3",
   "version": "3.13.3"
  }
 },
 "nbformat": 4,
 "nbformat_minor": 4
}
