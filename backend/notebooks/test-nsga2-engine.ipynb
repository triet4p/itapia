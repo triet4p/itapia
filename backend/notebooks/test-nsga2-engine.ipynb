{
 "cells": [
  {
   "cell_type": "code",
   "execution_count": null,
   "id": "e597d5ee",
   "metadata": {},
   "outputs": [],
   "source": [
    "import sys\n",
    "import os\n",
    "\n",
    "sys.path.append('F:/ai-ml/itapia/backend/evo_worker')\n",
    "sys.path.append('F:/ai-ml/itapia/backend/shared')\n",
    "\n",
    "os.environ['POSTGRES_HOST'] = 'localhost'\n",
    "os.environ['REDIS_HOST'] = 'localhost'"
   ]
  },
  {
   "cell_type": "code",
   "execution_count": null,
   "id": "ba2eadcc",
   "metadata": {},
   "outputs": [],
   "source": [
    "from app.dependencies import create_dependencies, get_backtest_context_manager\n",
    "create_dependencies()\n",
    "\n",
    "context_mng = get_backtest_context_manager()\n",
    "context_mng.init_ready_contexts()"
   ]
  },
  {
   "cell_type": "code",
   "execution_count": null,
   "id": "661146cc",
   "metadata": {},
   "outputs": [],
   "source": [
    "import nest_asyncio\n",
    "nest_asyncio.apply()\n",
    "\n",
    "for _, context in context_mng.contexts.items():\n",
    "    await context.load_data_into_memory()"
   ]
  },
  {
   "cell_type": "code",
   "execution_count": null,
   "id": "b8d90db4",
   "metadata": {},
   "outputs": [],
   "source": [
    "len(context_mng.get_ready_contexts())"
   ]
  },
  {
   "cell_type": "code",
   "execution_count": null,
   "id": "d38de8ee",
   "metadata": {},
   "outputs": [],
   "source": [
    "from app.backtest.action import MediumSwingActionMapper\n",
    "from app.backtest.evaluator import MultiContextFitnessEvaluator\n",
    "\n",
    "evaluator = MultiContextFitnessEvaluator(contexts=context_mng.get_ready_contexts()[:10],\n",
    "                                         action_mapper=MediumSwingActionMapper(),\n",
    "                                         aggregation_method='median')"
   ]
  },
  {
   "cell_type": "code",
   "execution_count": null,
   "id": "73cb8691",
   "metadata": {},
   "outputs": [],
   "source": [
    "from app.algorithms.structure.operators.construct import RandomMaxDepthInitOperator\n",
    "from itapia_common.schemas.entities.rules import SemanticType\n",
    "init_opr = RandomMaxDepthInitOperator(purpose=SemanticType.DECISION_SIGNAL, max_depth=10)"
   ]
  },
  {
   "cell_type": "code",
   "execution_count": null,
   "id": "956e2b30",
   "metadata": {},
   "outputs": [],
   "source": [
    "from app.algorithms.structure.operators.crossover import SubtreeCrossoverOperator\n",
    "crossover_opr = SubtreeCrossoverOperator()\n",
    "\n",
    "from app.algorithms.structure.operators.mutation import SubtreeMutationOperator\n",
    "mutation_opr = SubtreeMutationOperator(max_subtree_depth=4,\n",
    "                                       init_opr_template=RandomMaxDepthInitOperator)\n",
    "\n",
    "from app.algorithms.structure.operators.selection import TournamentSelectionOperator\n",
    "selection_opr = TournamentSelectionOperator(k=6)\n",
    "\n",
    "from app.algorithms.structure.operators.replacement import NSGA2ReplacementOperator\n",
    "replacement_opr = NSGA2ReplacementOperator()"
   ]
  },
  {
   "cell_type": "code",
   "execution_count": null,
   "id": "a7676a10",
   "metadata": {},
   "outputs": [],
   "source": [
    "from app.algorithms.structure.engine.nsga2 import NSGA2EvoEngine\n",
    "\n",
    "engine = NSGA2EvoEngine(evaluator=evaluator,\n",
    "                        init_opr=init_opr,\n",
    "                        crossover_opr=crossover_opr,\n",
    "                        mutation_opr=mutation_opr,\n",
    "                        selection_opr=selection_opr,\n",
    "                        replacement_opr=replacement_opr,\n",
    "                        seeding_rules=None)"
   ]
  },
  {
   "cell_type": "code",
   "execution_count": null,
   "id": "4be667e6",
   "metadata": {},
   "outputs": [],
   "source": [
    "engine.run(pop_size=100, num_gen=10, pc=0.8, pm=0.2)"
   ]
  },
  {
   "cell_type": "code",
   "execution_count": null,
   "id": "800ae4a5",
   "metadata": {},
   "outputs": [],
   "source": []
  }
 ],
 "metadata": {
  "kernelspec": {
   "display_name": "Python 3",
   "language": "python",
   "name": "python3"
  },
  "language_info": {
   "codemirror_mode": {
    "name": "ipython",
    "version": 3
   },
   "file_extension": ".py",
   "mimetype": "text/x-python",
   "name": "python",
   "nbconvert_exporter": "python",
   "pygments_lexer": "ipython3",
   "version": "3.13.3"
  }
 },
 "nbformat": 4,
 "nbformat_minor": 5
}
