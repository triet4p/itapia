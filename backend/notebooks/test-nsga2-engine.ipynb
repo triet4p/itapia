{
 "cells": [
  {
   "cell_type": "code",
   "execution_count": null,
   "id": "e597d5ee",
   "metadata": {},
   "outputs": [],
   "source": [
    "import sys\n",
    "import os\n",
    "\n",
    "sys.path.append('F:/ai-ml/itapia/backend/evo_worker')\n",
    "sys.path.append('F:/ai-ml/itapia/backend/shared')\n",
    "\n",
    "os.environ['POSTGRES_HOST'] = 'localhost'\n",
    "os.environ['REDIS_HOST'] = 'localhost'"
   ]
  },
  {
   "cell_type": "code",
   "execution_count": null,
   "id": "934e011b",
   "metadata": {},
   "outputs": [],
   "source": [
    "import app.core.config as cfg \n",
    "cfg.PARALLEL_MULTICONTEXT_LIMIT = 12"
   ]
  },
  {
   "cell_type": "code",
   "execution_count": null,
   "id": "ba2eadcc",
   "metadata": {},
   "outputs": [],
   "source": [
    "from app.dependencies import create_dependencies, get_backtest_context_manager\n",
    "create_dependencies()\n",
    "\n",
    "context_mng = get_backtest_context_manager()\n",
    "context_mng.init_ready_contexts()"
   ]
  },
  {
   "cell_type": "code",
   "execution_count": null,
   "id": "661146cc",
   "metadata": {},
   "outputs": [],
   "source": [
    "import nest_asyncio\n",
    "nest_asyncio.apply()\n",
    "\n",
    "for _, context in context_mng.contexts.items():\n",
    "    if context.ticker in cfg.FOR_TEST_CONTEXTS:\n",
    "        await context.load_data_into_memory()"
   ]
  },
  {
   "cell_type": "code",
   "execution_count": null,
   "id": "b8d90db4",
   "metadata": {},
   "outputs": [],
   "source": [
    "len(context_mng.get_ready_contexts())"
   ]
  },
  {
   "cell_type": "code",
   "execution_count": null,
   "id": "d38de8ee",
   "metadata": {},
   "outputs": [],
   "source": [
    "from app.backtest.action import MEDIUM_SWING_IDEAL_MAPPER, MEDIUM_SWING_PESSIMISTIC_MAPPER\n",
    "from app.backtest.evaluator import MultiContextEvaluator\n",
    "\n",
    "evaluator = MultiContextEvaluator(contexts=context_mng.get_ready_contexts(),\n",
    "                                         aggregation_method='trim-mean')\n",
    "\n",
    "evaluator.add_evaluate_scenario(MEDIUM_SWING_IDEAL_MAPPER, weight=0.3)\n",
    "evaluator.add_evaluate_scenario(MEDIUM_SWING_PESSIMISTIC_MAPPER, weight=0.7)"
   ]
  },
  {
   "cell_type": "code",
   "execution_count": null,
   "id": "4b93a971",
   "metadata": {},
   "outputs": [],
   "source": [
    "from itapia_common.rules.nodes.registry import get_operators_by_type, get_terminals_by_type\n",
    "operators_by_type = get_operators_by_type()\n",
    "terminals_by_type = get_terminals_by_type()"
   ]
  },
  {
   "cell_type": "code",
   "execution_count": null,
   "id": "4c170d39",
   "metadata": {},
   "outputs": [],
   "source": [
    "from app.algorithms.pop import DominanceIndividual"
   ]
  },
  {
   "cell_type": "code",
   "execution_count": null,
   "id": "73cb8691",
   "metadata": {},
   "outputs": [],
   "source": [
    "from app.algorithms.operators.construct import RandomMaxDepthInitOperator\n",
    "from itapia_common.schemas.entities.rules import SemanticType\n",
    "init_opr = RandomMaxDepthInitOperator(purpose=SemanticType.DECISION_SIGNAL, max_depth=10,\n",
    "                                      ind_cls=DominanceIndividual,\n",
    "                                      terminals_by_type=terminals_by_type,\n",
    "                                      operators_by_type=operators_by_type)"
   ]
  },
  {
   "cell_type": "code",
   "execution_count": null,
   "id": "956e2b30",
   "metadata": {},
   "outputs": [],
   "source": [
    "from app.algorithms.operators.crossover import SubtreeCrossoverOperator\n",
    "crossover_opr = SubtreeCrossoverOperator()\n",
    "\n",
    "from app.algorithms.operators.mutation import SubtreeMutationOperator\n",
    "mutation_opr = SubtreeMutationOperator(max_subtree_depth=4,\n",
    "                                       terminals_by_type=terminals_by_type,\n",
    "                                       operators_by_type=operators_by_type)\n",
    "\n",
    "from app.algorithms.operators.selection import TournamentSelectionOperator\n",
    "from app.algorithms.comparator import RankAndCrowdingComparator, FixedDominateComparator\n",
    "selection_opr = TournamentSelectionOperator(k=8, comparator=RankAndCrowdingComparator())\n",
    "\n",
    "from app.algorithms.operators.replacement import NSGA2ReplacementOperator\n",
    "replacement_opr = NSGA2ReplacementOperator(comparator=FixedDominateComparator())\n",
    "\n",
    "from app.algorithms.objective import CSRSPObjectiveExtractor\n",
    "obj_extractor = CSRSPObjectiveExtractor()"
   ]
  },
  {
   "cell_type": "code",
   "execution_count": null,
   "id": "a7676a10",
   "metadata": {},
   "outputs": [],
   "source": [
    "from app.algorithms.engine.nsga2 import NSGA2EvoEngine\n",
    "from datetime import datetime\n",
    "now = datetime.now().strftime(\"%Y-%m-%d_%H-%M-%S\")\n",
    "\n",
    "config = {\n",
    "    'pop_size': 100,\n",
    "    'num_gen': 200,\n",
    "    'pc': 0.85,\n",
    "    'pm': 0.25\n",
    "}\n",
    "\n",
    "engine = NSGA2EvoEngine(run_id=f'nsga2-{now}-first',\n",
    "                        evaluator=evaluator,\n",
    "                        obj_extractor=obj_extractor,\n",
    "                        init_opr=init_opr,\n",
    "                        crossover_opr=crossover_opr,\n",
    "                        mutation_opr=mutation_opr,\n",
    "                        selection_opr=selection_opr,\n",
    "                        replacement_opr=replacement_opr,\n",
    "                        dominate_comparator=FixedDominateComparator(),\n",
    "                        seeding_rules=None,\n",
    "                        **config)"
   ]
  },
  {
   "cell_type": "code",
   "execution_count": null,
   "id": "865fb63b",
   "metadata": {},
   "outputs": [],
   "source": [
    "#front = engine.run(stop_gen=8)"
   ]
  },
  {
   "cell_type": "code",
   "execution_count": null,
   "id": "2e706323",
   "metadata": {},
   "outputs": [],
   "source": [
    "engine.fallback_state['pop']"
   ]
  },
  {
   "cell_type": "code",
   "execution_count": null,
   "id": "d30ce9c5",
   "metadata": {},
   "outputs": [],
   "source": [
    "from itapia_common.dblib.services import EvoService\n",
    "from itapia_common.dblib.session import get_rdbms_session\n",
    "rdbms_session = next(get_rdbms_session())\n",
    "evo_service = EvoService(rdbms_session)"
   ]
  },
  {
   "cell_type": "code",
   "execution_count": null,
   "id": "12e6d12f",
   "metadata": {},
   "outputs": [],
   "source": [
    "engine.run_id"
   ]
  },
  {
   "cell_type": "code",
   "execution_count": null,
   "id": "48786c69",
   "metadata": {},
   "outputs": [],
   "source": [
    "evo_run_ent = evo_service.get_evo_run('nsga2-2025-09-01_15-39-57-first')"
   ]
  },
  {
   "cell_type": "code",
   "execution_count": null,
   "id": "88fb2dfc",
   "metadata": {},
   "outputs": [],
   "source": [
    "import pickle\n",
    "\n",
    "\n",
    "fallback_state = pickle.loads(evo_run_ent.fallback_state)"
   ]
  }
 ],
 "metadata": {
  "kernelspec": {
   "display_name": "Python 3",
   "language": "python",
   "name": "python3"
  },
  "language_info": {
   "codemirror_mode": {
    "name": "ipython",
    "version": 3
   },
   "file_extension": ".py",
   "mimetype": "text/x-python",
   "name": "python",
   "nbconvert_exporter": "python",
   "pygments_lexer": "ipython3",
   "version": "3.13.3"
  }
 },
 "nbformat": 4,
 "nbformat_minor": 5
}
