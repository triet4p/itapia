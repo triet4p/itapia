{
 "cells": [
  {
   "cell_type": "code",
   "execution_count": null,
   "id": "e597d5ee",
   "metadata": {},
   "outputs": [],
   "source": [
    "import sys\n",
    "import os\n",
    "\n",
    "sys.path.append('F:/ai-ml/itapia/backend/evo_worker')\n",
    "sys.path.append('F:/ai-ml/itapia/backend/shared')\n",
    "\n",
    "os.environ['POSTGRES_HOST'] = 'localhost'\n",
    "os.environ['REDIS_HOST'] = 'localhost'"
   ]
  },
  {
   "cell_type": "code",
   "execution_count": null,
   "id": "934e011b",
   "metadata": {},
   "outputs": [],
   "source": [
    "import app.core.config as cfg \n",
    "cfg.PARALLEL_MULTICONTEXT_LIMIT = 20"
   ]
  },
  {
   "cell_type": "code",
   "execution_count": null,
   "id": "ba2eadcc",
   "metadata": {},
   "outputs": [],
   "source": [
    "from app.dependencies import create_dependencies, get_backtest_context_manager\n",
    "create_dependencies()\n",
    "\n",
    "context_mng = get_backtest_context_manager()"
   ]
  },
  {
   "cell_type": "code",
   "execution_count": null,
   "id": "a9feeba9",
   "metadata": {},
   "outputs": [],
   "source": [
    "tickers = context_mng.get_all_ticker_contexts()"
   ]
  },
  {
   "cell_type": "code",
   "execution_count": null,
   "id": "5379f1e1",
   "metadata": {},
   "outputs": [],
   "source": [
    "from datetime import datetime\n",
    "import nest_asyncio\n",
    "from app.backtest.selector import BacktestPointSelector\n",
    "nest_asyncio.apply()\n",
    "for ticker in tickers:\n",
    "    selector = BacktestPointSelector(ticker, context_mng.data_preparer)\n",
    "    selector.add_significant_points(max_points=35,\n",
    "                                    selector_start=datetime(2019, 9, 1),\n",
    "                                    selector_end=datetime(2025, 2, 28))\n",
    "    selector.add_monthly_points(day_of_month=10, max_points=20, \n",
    "                                selector_start=datetime(2019, 9, 1),\n",
    "                                selector_end=datetime(2021, 12, 31))\n",
    "    context_mng.add_context(ticker, selector)"
   ]
  },
  {
   "cell_type": "code",
   "execution_count": null,
   "id": "661146cc",
   "metadata": {},
   "outputs": [],
   "source": [
    "import nest_asyncio\n",
    "nest_asyncio.apply()\n",
    "\n",
    "for _, context in context_mng.contexts.items():\n",
    "    await context.load_data_into_memory(max_reports=50)"
   ]
  },
  {
   "cell_type": "code",
   "execution_count": null,
   "id": "2ffda2f7",
   "metadata": {},
   "outputs": [],
   "source": [
    "len(context_mng.get_context('NVDA').historical_reports)"
   ]
  },
  {
   "cell_type": "code",
   "execution_count": null,
   "id": "947a462d",
   "metadata": {},
   "outputs": [],
   "source": [
    "from datetime import timezone\n",
    "\n",
    "[datetime.fromtimestamp(x.generated_timestamp, timezone.utc) for x in context_mng.get_context('NVDA').historical_reports]"
   ]
  },
  {
   "cell_type": "code",
   "execution_count": null,
   "id": "d38de8ee",
   "metadata": {},
   "outputs": [],
   "source": [
    "from app.backtest.action import MEDIUM_SWING_IDEAL_MAPPER, MEDIUM_SWING_PESSIMISTIC_MAPPER\n",
    "from app.backtest.evaluator import MultiContextEvaluator\n",
    "\n",
    "evaluator = MultiContextEvaluator(contexts=context_mng.get_ready_contexts(),\n",
    "                                  aggregation_method='trim-mean')\n",
    "\n",
    "evaluator.add_evaluate_scenario(MEDIUM_SWING_IDEAL_MAPPER, weight=0.3)\n",
    "evaluator.add_evaluate_scenario(MEDIUM_SWING_PESSIMISTIC_MAPPER, weight=0.7)"
   ]
  },
  {
   "cell_type": "code",
   "execution_count": null,
   "id": "4b93a971",
   "metadata": {},
   "outputs": [],
   "source": [
    "from itapia_common.rules.nodes.registry import get_operators_by_type, get_terminals_by_type\n",
    "operators_by_type = get_operators_by_type()\n",
    "terminals_by_type = get_terminals_by_type()"
   ]
  },
  {
   "cell_type": "code",
   "execution_count": null,
   "id": "f7983e11",
   "metadata": {},
   "outputs": [],
   "source": [
    "from itapia_common.schemas.entities.rules import SemanticType\n",
    "from itapia_common.rules import names as nms \n",
    "\n",
    "for num in [-5.0, -4.0, -3.0, 3.0, 4.0, -0.9, -0.7, -0.5, 0.5, 0.7, 0.9]:\n",
    "    num_str = nms.CONST_NUM(num)\n",
    "    print(num_str)\n",
    "    terminals_by_type[SemanticType.NUMERICAL].remove(num_str)\n",
    "    "
   ]
  },
  {
   "cell_type": "code",
   "execution_count": null,
   "id": "4c170d39",
   "metadata": {},
   "outputs": [],
   "source": [
    "from app.algorithms.pop import DominanceIndividual"
   ]
  },
  {
   "cell_type": "code",
   "execution_count": null,
   "id": "e330fd8a",
   "metadata": {},
   "outputs": [],
   "source": [
    "algorithm = 'nsga2'"
   ]
  },
  {
   "cell_type": "code",
   "execution_count": null,
   "id": "fee88a99",
   "metadata": {},
   "outputs": [],
   "source": [
    "new_rule_name_prefix = cfg.NEW_RULE_NAME_TEMPLATE.format(algorithm=algorithm)"
   ]
  },
  {
   "cell_type": "code",
   "execution_count": null,
   "id": "73cb8691",
   "metadata": {},
   "outputs": [],
   "source": [
    "from app.algorithms.operators.construct import RandomMaxDepthInitOperator\n",
    "from itapia_common.schemas.entities.rules import SemanticType\n",
    "init_opr = RandomMaxDepthInitOperator(purpose=SemanticType.DECISION_SIGNAL, max_depth=11,\n",
    "                                      ind_cls=DominanceIndividual,\n",
    "                                      terminals_by_type=terminals_by_type,\n",
    "                                      operators_by_type=operators_by_type,\n",
    "                                      new_rule_name_prefix=new_rule_name_prefix)"
   ]
  },
  {
   "cell_type": "code",
   "execution_count": null,
   "id": "956e2b30",
   "metadata": {},
   "outputs": [],
   "source": [
    "from app.algorithms.operators.crossover import SubtreeCrossoverOperator, OnePointCrossoverOperator\n",
    "subtree_crossover_opr = SubtreeCrossoverOperator(DominanceIndividual, new_rule_name_prefix)\n",
    "onepoint_crossover_opr = OnePointCrossoverOperator(DominanceIndividual, new_rule_name_prefix)\n",
    "\n",
    "from app.algorithms.operators.mutation import SubtreeMutationOperator, PointMutationOperator, ShrinkMutationOperator\n",
    "subtree_mutation_opr = SubtreeMutationOperator(DominanceIndividual, max_subtree_depth=4,\n",
    "                                               terminals_by_type=terminals_by_type,\n",
    "                                               operators_by_type=operators_by_type,\n",
    "                                               new_rule_name_prefix=new_rule_name_prefix)\n",
    "point_mutation_opr = PointMutationOperator(DominanceIndividual, terminals_by_type=terminals_by_type,\n",
    "                                           operators_by_type=operators_by_type,\n",
    "                                           new_rule_name_prefix=new_rule_name_prefix)\n",
    "shrink_mutation_opr = ShrinkMutationOperator(DominanceIndividual, terminals_by_type=terminals_by_type,\n",
    "                                             new_rule_name_prefix=new_rule_name_prefix)\n",
    "\n",
    "from app.algorithms.operators.selection import TournamentSelectionOperator\n",
    "from app.algorithms.comparator import RankAndCrowdingComparator, FixedDominateComparator\n",
    "selection_opr = TournamentSelectionOperator(DominanceIndividual, k=8, comparator=RankAndCrowdingComparator())\n",
    "\n",
    "from app.algorithms.operators.replacement import NSGA2ReplacementOperator\n",
    "replacement_opr = NSGA2ReplacementOperator(comparator=FixedDominateComparator())\n",
    "\n",
    "from app.algorithms.objective import CSRSPObjectiveExtractor, CSPSPWeightedAggObjectiveExtractor\n",
    "obj_extractor = CSRSPObjectiveExtractor()\n",
    "weights = [0.3, 0.3, 0.2, 0.1, 0.1]\n",
    "adaptive_obj_extractor = CSPSPWeightedAggObjectiveExtractor(weights)"
   ]
  },
  {
   "cell_type": "code",
   "execution_count": null,
   "id": "a7676a10",
   "metadata": {},
   "outputs": [],
   "source": [
    "from app.algorithms.engine.nsga2 import NSGA2EvoEngine\n",
    "from datetime import datetime\n",
    "now = datetime.now().strftime(\"%Y-%m-%d_%H-%M-%S\")\n",
    "\n",
    "config = {\n",
    "    'pop_size': 100,\n",
    "    'num_gen': 200,\n",
    "    'pc': 0.85,\n",
    "    'pm': 0.25,\n",
    "    'lr': 0.3,\n",
    "    'update_score_period': 20,\n",
    "    'archive_each_gen': 90,\n",
    "    'archived_weights': weights\n",
    "}\n",
    "\n",
    "engine = NSGA2EvoEngine(run_id=f'nsga2-first-test',\n",
    "                        seeding_rules=None,\n",
    "                        pop_size=config['pop_size'],\n",
    "                        num_gen=config['num_gen'],\n",
    "                        pc=config['pc'],\n",
    "                        pm=config['pm'],\n",
    "                        lr=config['lr'],\n",
    "                        update_score_period=config['update_score_period'],\n",
    "                        archive_each_gen=config['archive_each_gen'])"
   ]
  },
  {
   "cell_type": "code",
   "execution_count": null,
   "id": "7e29db06",
   "metadata": {},
   "outputs": [],
   "source": [
    "(engine.set_evaluator(evaluator)\n",
    " .set_dominate_comparator(FixedDominateComparator())\n",
    " .set_adaptive_obj_extractor(adaptive_obj_extractor)\n",
    " .set_obj_extractor(obj_extractor)\n",
    " .set_init_opr(init_opr)\n",
    " .set_replacement_opr(replacement_opr)\n",
    " .set_selection_opr(selection_opr)\n",
    " .add_crossover_opr(subtree_crossover_opr)\n",
    " .add_crossover_opr(onepoint_crossover_opr)\n",
    " .add_mutation_opr(subtree_mutation_opr)\n",
    " .add_mutation_opr(point_mutation_opr)\n",
    " .add_mutation_opr(shrink_mutation_opr)\n",
    ")"
   ]
  },
  {
   "cell_type": "code",
   "execution_count": null,
   "id": "445f7c1b",
   "metadata": {},
   "outputs": [],
   "source": [
    "from itapia_common.dblib.services import EvoService\n",
    "from itapia_common.dblib.session import get_rdbms_session\n",
    "service = EvoService(next(get_rdbms_session()))"
   ]
  },
  {
   "cell_type": "code",
   "execution_count": null,
   "id": "23d7aebe",
   "metadata": {},
   "outputs": [],
   "source": [
    "evo_run_ent = service.get_evo_run(engine.run_id)"
   ]
  },
  {
   "cell_type": "code",
   "execution_count": null,
   "id": "0a1542c9",
   "metadata": {},
   "outputs": [],
   "source": [
    "import pickle\n",
    "\n",
    "fallback_state = pickle.loads(evo_run_ent.fallback_state)"
   ]
  },
  {
   "cell_type": "code",
   "execution_count": null,
   "id": "48b8b59a",
   "metadata": {},
   "outputs": [],
   "source": [
    "len(fallback_state['NSGA2EvoEngine']['archived']['population'])"
   ]
  },
  {
   "cell_type": "code",
   "execution_count": null,
   "id": "e10d2c86",
   "metadata": {},
   "outputs": [],
   "source": [
    "fallback_state['NSGA2EvoEngine']['archived']['max_population_size']"
   ]
  },
  {
   "cell_type": "code",
   "execution_count": null,
   "id": "9306ff2d",
   "metadata": {},
   "outputs": [],
   "source": [
    "from app.algorithms.pop import Population\n",
    "from typing import List, Union\n",
    "\n",
    "from app.state import Stateful, SingletonNameable\n",
    "\n",
    "to_load_state: List[Union[Stateful, SingletonNameable]] = [\n",
    "    engine,\n",
    "    init_opr,\n",
    "    subtree_crossover_opr,\n",
    "    onepoint_crossover_opr,\n",
    "    subtree_mutation_opr,\n",
    "    point_mutation_opr,\n",
    "    shrink_mutation_opr,\n",
    "    selection_opr,\n",
    "    replacement_opr\n",
    "]\n",
    "\n",
    "for obj in to_load_state:\n",
    "    obj.set_from_fallback_state(fallback_state[obj.singleton_name])"
   ]
  },
  {
   "cell_type": "code",
   "execution_count": null,
   "id": "96b45e87",
   "metadata": {},
   "outputs": [],
   "source": [
    "engine.archived.population_size"
   ]
  },
  {
   "cell_type": "code",
   "execution_count": null,
   "id": "a778feef",
   "metadata": {},
   "outputs": [],
   "source": [
    "engine.archived.max_population_size"
   ]
  },
  {
   "cell_type": "code",
   "execution_count": null,
   "id": "4440375e",
   "metadata": {},
   "outputs": [],
   "source": [
    "engine.pop.population[3].fitness"
   ]
  },
  {
   "cell_type": "code",
   "execution_count": null,
   "id": "865fb63b",
   "metadata": {},
   "outputs": [],
   "source": [
    "front = engine.rerun(next_stop_gen=60)"
   ]
  },
  {
   "cell_type": "code",
   "execution_count": null,
   "id": "b91de943",
   "metadata": {},
   "outputs": [],
   "source": [
    "import pandas as pd\n",
    "df = pd.DataFrame([ind.fitness for ind in front])"
   ]
  },
  {
   "cell_type": "code",
   "execution_count": null,
   "id": "36844de3",
   "metadata": {},
   "outputs": [],
   "source": [
    "df.describe()"
   ]
  },
  {
   "cell_type": "code",
   "execution_count": null,
   "id": "a276c5bd",
   "metadata": {},
   "outputs": [],
   "source": [
    "engine.fallback_state.keys()"
   ]
  },
  {
   "cell_type": "code",
   "execution_count": null,
   "id": "e74b98f9",
   "metadata": {},
   "outputs": [],
   "source": [
    "engine.mutation_adap._score_storage"
   ]
  },
  {
   "cell_type": "code",
   "execution_count": null,
   "id": "18c2d563",
   "metadata": {},
   "outputs": [],
   "source": [
    "engine.crossover_adap._score_storage"
   ]
  },
  {
   "cell_type": "code",
   "execution_count": null,
   "id": "458d63a6",
   "metadata": {},
   "outputs": [],
   "source": [
    "to_save_state = [\n",
    "    engine,\n",
    "    init_opr,\n",
    "    subtree_crossover_opr,\n",
    "    onepoint_crossover_opr,\n",
    "    subtree_mutation_opr,\n",
    "    point_mutation_opr,\n",
    "    shrink_mutation_opr,\n",
    "    selection_opr,\n",
    "    replacement_opr\n",
    "]\n",
    "\n",
    "fallback_state = {obj.singleton_name: obj.fallback_state for obj in to_save_state}"
   ]
  },
  {
   "cell_type": "code",
   "execution_count": null,
   "id": "4f13be94",
   "metadata": {},
   "outputs": [],
   "source": [
    "import pickle\n",
    "pickle.dump(fallback_state, open('./a7.pkl', 'wb'))"
   ]
  },
  {
   "cell_type": "code",
   "execution_count": null,
   "id": "b57e3453",
   "metadata": {},
   "outputs": [],
   "source": [
    "from itapia_common.schemas.entities.evo import EvoRunEntity, EvoRuleEntity\n",
    "from itapia_common.schemas.entities.rules import RuleStatus\n",
    "\n",
    "pop_rules = [EvoRuleEntity(\n",
    "    evo_run_id=engine.run_id,\n",
    "    metrics=ind.metrics,\n",
    "    **ind.chromosome.to_entity().model_dump()\n",
    ") for ind in engine.pop.population]\n",
    "\n",
    "for ent in pop_rules:\n",
    "    ent.rule_status = RuleStatus.EVOLVING\n",
    "    \n",
    "archived_rules = [EvoRuleEntity(\n",
    "    evo_run_id=engine.run_id,\n",
    "    metrics=ind.metrics,\n",
    "    **ind.chromosome.to_entity().model_dump()\n",
    ") for ind in engine.archived.population]\n",
    "\n",
    "for ent in archived_rules:\n",
    "    ent.rule_status = RuleStatus.DEPRECATED\n"
   ]
  },
  {
   "cell_type": "code",
   "execution_count": null,
   "id": "b5c55c51",
   "metadata": {},
   "outputs": [],
   "source": [
    "from itapia_common.schemas.entities.evo import EvoRunStatus\n",
    "\n",
    "evo_run_ent = EvoRunEntity(\n",
    "    run_id=engine.run_id,\n",
    "    status=EvoRunStatus.RUNNING,\n",
    "    algorithm=algorithm,\n",
    "    config=config,\n",
    "    fallback_state=pickle.dumps(fallback_state),\n",
    "    rules=pop_rules\n",
    ")"
   ]
  },
  {
   "cell_type": "code",
   "execution_count": null,
   "id": "3116e98a",
   "metadata": {},
   "outputs": [],
   "source": [
    "service.save_evo_rules(archived_rules)"
   ]
  },
  {
   "cell_type": "code",
   "execution_count": null,
   "id": "6e48ee32",
   "metadata": {},
   "outputs": [],
   "source": [
    "service.save_evo_run(evo_run_ent)"
   ]
  },
  {
   "cell_type": "code",
   "execution_count": null,
   "id": "dafc23bc",
   "metadata": {},
   "outputs": [],
   "source": [
    "engine.archived.population_size"
   ]
  },
  {
   "cell_type": "code",
   "execution_count": null,
   "id": "8d61915f",
   "metadata": {},
   "outputs": [],
   "source": []
  }
 ],
 "metadata": {
  "kernelspec": {
   "display_name": "Python 3",
   "language": "python",
   "name": "python3"
  },
  "language_info": {
   "codemirror_mode": {
    "name": "ipython",
    "version": 3
   },
   "file_extension": ".py",
   "mimetype": "text/x-python",
   "name": "python",
   "nbconvert_exporter": "python",
   "pygments_lexer": "ipython3",
   "version": "3.13.3"
  }
 },
 "nbformat": 4,
 "nbformat_minor": 5
}
