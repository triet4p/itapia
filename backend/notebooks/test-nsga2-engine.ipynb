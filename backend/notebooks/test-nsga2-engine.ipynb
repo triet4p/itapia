{
 "cells": [
  {
   "cell_type": "code",
   "execution_count": null,
   "id": "e597d5ee",
   "metadata": {},
   "outputs": [],
   "source": [
    "import sys\n",
    "import os\n",
    "\n",
    "sys.path.append('F:/ai-ml/itapia/backend/evo_worker')\n",
    "sys.path.append('F:/ai-ml/itapia/backend/shared')\n",
    "\n",
    "os.environ['POSTGRES_HOST'] = 'localhost'\n",
    "os.environ['REDIS_HOST'] = 'localhost'"
   ]
  },
  {
   "cell_type": "code",
   "execution_count": null,
   "id": "ba2eadcc",
   "metadata": {},
   "outputs": [],
   "source": [
    "from app.dependencies import create_dependencies, get_backtest_context_manager\n",
    "create_dependencies()\n",
    "\n",
    "context_mng = get_backtest_context_manager()\n",
    "context_mng.init_ready_contexts()"
   ]
  },
  {
   "cell_type": "code",
   "execution_count": null,
   "id": "661146cc",
   "metadata": {},
   "outputs": [],
   "source": [
    "import nest_asyncio\n",
    "nest_asyncio.apply()\n",
    "\n",
    "for _, context in context_mng.contexts.items():\n",
    "    await context.load_data_into_memory()"
   ]
  },
  {
   "cell_type": "code",
   "execution_count": null,
   "id": "b8d90db4",
   "metadata": {},
   "outputs": [],
   "source": [
    "len(context_mng.get_ready_contexts())"
   ]
  },
  {
   "cell_type": "code",
   "execution_count": null,
   "id": "d38de8ee",
   "metadata": {},
   "outputs": [],
   "source": [
    "from app.backtest.action import MEDIUM_SWING_IDEAL_MAPPER, MEDIUM_SWING_PESSIMISTIC_MAPPER\n",
    "from app.backtest.evaluator import MultiContextEvaluator\n",
    "\n",
    "evaluator = MultiContextEvaluator(contexts=context_mng.get_ready_contexts()[-30:],\n",
    "                                         aggregation_method='trim-mean')\n",
    "\n",
    "evaluator.add_evaluate_scenario(MEDIUM_SWING_IDEAL_MAPPER, weight=0.3)\n",
    "evaluator.add_evaluate_scenario(MEDIUM_SWING_PESSIMISTIC_MAPPER, weight=0.7)"
   ]
  },
  {
   "cell_type": "code",
   "execution_count": null,
   "id": "73cb8691",
   "metadata": {},
   "outputs": [],
   "source": [
    "from app.algorithms.structure.operators.construct import RandomMaxDepthInitOperator\n",
    "from itapia_common.schemas.entities.rules import SemanticType\n",
    "init_opr = RandomMaxDepthInitOperator(purpose=SemanticType.DECISION_SIGNAL, max_depth=10)"
   ]
  },
  {
   "cell_type": "code",
   "execution_count": null,
   "id": "956e2b30",
   "metadata": {},
   "outputs": [],
   "source": [
    "from app.algorithms.structure.operators.crossover import SubtreeCrossoverOperator\n",
    "crossover_opr = SubtreeCrossoverOperator()\n",
    "\n",
    "from app.algorithms.structure.operators.mutation import SubtreeMutationOperator\n",
    "mutation_opr = SubtreeMutationOperator(max_subtree_depth=4,\n",
    "                                       init_opr_template=RandomMaxDepthInitOperator)\n",
    "\n",
    "from app.algorithms.structure.operators.selection import TournamentSelectionOperator\n",
    "selection_opr = TournamentSelectionOperator(k=8)\n",
    "\n",
    "from app.algorithms.structure.operators.replacement import NSGA2ReplacementOperator\n",
    "replacement_opr = NSGA2ReplacementOperator()"
   ]
  },
  {
   "cell_type": "code",
   "execution_count": null,
   "id": "a7676a10",
   "metadata": {},
   "outputs": [],
   "source": [
    "from app.algorithms.structure.engine.nsga2 import NSGA2EvoEngine\n",
    "\n",
    "engine = NSGA2EvoEngine(evaluator=evaluator,\n",
    "                        init_opr=init_opr,\n",
    "                        crossover_opr=crossover_opr,\n",
    "                        mutation_opr=mutation_opr,\n",
    "                        selection_opr=selection_opr,\n",
    "                        replacement_opr=replacement_opr,\n",
    "                        seeding_rules=None)"
   ]
  },
  {
   "cell_type": "code",
   "execution_count": null,
   "id": "4be667e6",
   "metadata": {},
   "outputs": [],
   "source": [
    "engine.run(pop_size=150, num_gen=10, pc=0.8, pm=0.25)"
   ]
  },
  {
   "cell_type": "code",
   "execution_count": null,
   "id": "800ae4a5",
   "metadata": {},
   "outputs": [],
   "source": [
    "engine.pareto_front[0].fitness"
   ]
  },
  {
   "cell_type": "code",
   "execution_count": null,
   "id": "1c85e69f",
   "metadata": {},
   "outputs": [],
   "source": [
    "engine.pareto_front[9].fitness"
   ]
  },
  {
   "cell_type": "code",
   "execution_count": null,
   "id": "1a4d4bc4",
   "metadata": {},
   "outputs": [],
   "source": [
    "lst = [list(engine.pareto_front[i].fitness) for i in range(len(engine.pareto_front))]"
   ]
  },
  {
   "cell_type": "code",
   "execution_count": null,
   "id": "da8af783",
   "metadata": {},
   "outputs": [],
   "source": [
    "import pandas as pd\n",
    "df = pd.DataFrame(lst)"
   ]
  },
  {
   "cell_type": "code",
   "execution_count": null,
   "id": "905d70e8",
   "metadata": {},
   "outputs": [],
   "source": [
    "df.iloc[:50]"
   ]
  },
  {
   "cell_type": "code",
   "execution_count": null,
   "id": "56dc84b3",
   "metadata": {},
   "outputs": [],
   "source": [
    "from itapia_common.rules.visualize import visualize_rule"
   ]
  },
  {
   "cell_type": "code",
   "execution_count": null,
   "id": "27594a66",
   "metadata": {},
   "outputs": [],
   "source": [
    "visualize_rule(engine.pareto_front[0].chromosome, 'ind0', False)"
   ]
  },
  {
   "cell_type": "code",
   "execution_count": null,
   "id": "10410f52",
   "metadata": {},
   "outputs": [],
   "source": [
    "visualize_rule(c1.chromosome, 'ind1', False)"
   ]
  },
  {
   "cell_type": "code",
   "execution_count": null,
   "id": "440af7d4",
   "metadata": {},
   "outputs": [],
   "source": [
    "evaluator.evaluate(engine.pareto_front[49].chromosome)"
   ]
  },
  {
   "cell_type": "code",
   "execution_count": null,
   "id": "85562926",
   "metadata": {},
   "outputs": [],
   "source": [
    "engine._is_similar(engine.pareto_front[0] ,engine.pareto_front[1])"
   ]
  },
  {
   "cell_type": "code",
   "execution_count": null,
   "id": "eaa39e6a",
   "metadata": {},
   "outputs": [],
   "source": [
    "c1, c2 = crossover_opr(engine.pareto_front[0], engine.pareto_front[47])"
   ]
  },
  {
   "cell_type": "code",
   "execution_count": null,
   "id": "94374789",
   "metadata": {},
   "outputs": [],
   "source": [
    "evaluator.evaluate(c1.chromosome)"
   ]
  },
  {
   "cell_type": "code",
   "execution_count": null,
   "id": "77eb975c",
   "metadata": {},
   "outputs": [],
   "source": []
  }
 ],
 "metadata": {
  "kernelspec": {
   "display_name": "Python 3",
   "language": "python",
   "name": "python3"
  },
  "language_info": {
   "codemirror_mode": {
    "name": "ipython",
    "version": 3
   },
   "file_extension": ".py",
   "mimetype": "text/x-python",
   "name": "python",
   "nbconvert_exporter": "python",
   "pygments_lexer": "ipython3",
   "version": "3.13.3"
  }
 },
 "nbformat": 4,
 "nbformat_minor": 5
}
