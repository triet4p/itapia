{
 "cells": [
  {
   "cell_type": "code",
   "execution_count": 1,
   "id": "620ec8f9",
   "metadata": {},
   "outputs": [],
   "source": [
    "import sys\n",
    "import os\n",
    "\n",
    "sys.path.append('F:/ai-ml/itapia/backend/evo_worker')\n",
    "sys.path.append('F:/ai-ml/itapia/backend/shared')\n",
    "\n",
    "os.environ['POSTGRES_HOST'] = 'localhost'"
   ]
  },
  {
   "cell_type": "code",
   "execution_count": 2,
   "id": "31dff7dc",
   "metadata": {},
   "outputs": [],
   "source": [
    "from itapia_common.dblib.session import get_rdbms_session\n",
    "from itapia_common.dblib.services import RuleService, EvoService\n",
    "\n",
    "rule_service = RuleService(next(get_rdbms_session()))\n",
    "evo_service = EvoService(next(get_rdbms_session()))"
   ]
  },
  {
   "cell_type": "code",
   "execution_count": 3,
   "id": "6330d6c6",
   "metadata": {},
   "outputs": [],
   "source": [
    "from itapia_common.schemas.entities.rules import RuleStatus\n",
    "\n",
    "\n",
    "rule_ents = rule_service.get_all_rules(RuleStatus.EVOLVING)\n",
    "evo_rule_ents = evo_service.get_all_rules(RuleStatus.EVOLVING)"
   ]
  },
  {
   "cell_type": "code",
   "execution_count": 5,
   "id": "b814a0b0",
   "metadata": {},
   "outputs": [],
   "source": [
    "evo_rule_ents_dict = {evo_rule_ent.rule_id: evo_rule_ent for evo_rule_ent in evo_rule_ents}"
   ]
  },
  {
   "cell_type": "code",
   "execution_count": 8,
   "id": "a6243966",
   "metadata": {},
   "outputs": [],
   "source": [
    "for rule_ent in rule_ents:\n",
    "    rule_ent.metrics = evo_rule_ents_dict[rule_ent.rule_id].metrics\n",
    "    rule_ent.rule_status = RuleStatus.READY"
   ]
  },
  {
   "cell_type": "code",
   "execution_count": 9,
   "id": "88e327f7",
   "metadata": {},
   "outputs": [],
   "source": [
    "for rule_ent in rule_ents:\n",
    "    rule_service.save_rule(rule_ent)"
   ]
  },
  {
   "cell_type": "code",
   "execution_count": null,
   "id": "f9aaba71",
   "metadata": {},
   "outputs": [],
   "source": []
  }
 ],
 "metadata": {
  "kernelspec": {
   "display_name": "Python 3",
   "language": "python",
   "name": "python3"
  },
  "language_info": {
   "codemirror_mode": {
    "name": "ipython",
    "version": 3
   },
   "file_extension": ".py",
   "mimetype": "text/x-python",
   "name": "python",
   "nbconvert_exporter": "python",
   "pygments_lexer": "ipython3",
   "version": "3.13.3"
  }
 },
 "nbformat": 4,
 "nbformat_minor": 5
}
