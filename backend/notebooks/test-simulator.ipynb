{
 "cells": [
  {
   "cell_type": "code",
   "execution_count": 1,
   "id": "16caf5e9",
   "metadata": {},
   "outputs": [],
   "source": [
    "import sys\n",
    "import os\n",
    "\n",
    "sys.path.append('F:/ai-ml/itapia/backend/evo_worker')\n",
    "sys.path.append('F:/ai-ml/itapia/backend/shared')"
   ]
  },
  {
   "cell_type": "code",
   "execution_count": 2,
   "id": "876b03ca",
   "metadata": {},
   "outputs": [],
   "source": [
    "os.environ['POSTGRES_HOST'] = 'localhost'\n",
    "os.environ['REDIS_HOST'] = 'localhost'"
   ]
  },
  {
   "cell_type": "code",
   "execution_count": 3,
   "id": "cebbdda3",
   "metadata": {},
   "outputs": [],
   "source": [
    "from app.dependencies import get_backtest_context_manager, create_dependencies\n",
    "create_dependencies()"
   ]
  },
  {
   "cell_type": "code",
   "execution_count": 4,
   "id": "54077977",
   "metadata": {},
   "outputs": [],
   "source": [
    "context_mng = get_backtest_context_manager()"
   ]
  },
  {
   "cell_type": "code",
   "execution_count": 5,
   "id": "ba2c733c",
   "metadata": {},
   "outputs": [],
   "source": [
    "context_mng.init_ready_contexts()"
   ]
  },
  {
   "cell_type": "code",
   "execution_count": 6,
   "id": "040879eb",
   "metadata": {},
   "outputs": [
    {
     "name": "stderr",
     "output_type": "stream",
     "text": [
      "[2025-08-21 12:57:45] INFO by Backtest Context: Lazy loading data for ticker: AAPL\n",
      "[2025-08-21 12:57:45] INFO by Backtest Data Preparer: Preparing daily OHLCV for ticker 'AAPL'...\n",
      "[2025-08-21 12:57:45] INFO by Prices Service of DB: SERVICE: Preparing daily prices for ticker AAPL\n",
      "[2025-08-21 12:57:45] INFO by Metadata Service of DB: SERVICE: Preparing ticker info metadata of ticker AAPL...\n",
      "[2025-08-21 12:57:45] INFO by Backtest Data Preparer: Transforming single ticker repsonse ...\n",
      "[2025-08-21 12:57:45] INFO by Backtest Context: Successfully loaded 107 reports and OHLCV data for AAPL.\n"
     ]
    }
   ],
   "source": [
    "import nest_asyncio\n",
    "nest_asyncio.apply()\n",
    "await context_mng.get_context('AAPL').load_data_into_memory()"
   ]
  },
  {
   "cell_type": "code",
   "execution_count": 7,
   "id": "7947399b",
   "metadata": {},
   "outputs": [],
   "source": [
    "test_ctx = context_mng.get_context('AAPL')"
   ]
  },
  {
   "cell_type": "code",
   "execution_count": 8,
   "id": "f92f497d",
   "metadata": {},
   "outputs": [],
   "source": [
    "from app.backtest.evaluator import FitnessEvaluator\n",
    "from app.backtest.action import ShortSwingActionMapper"
   ]
  },
  {
   "cell_type": "code",
   "execution_count": 9,
   "id": "944b298e",
   "metadata": {},
   "outputs": [],
   "source": [
    "action_mapper = ShortSwingActionMapper()"
   ]
  },
  {
   "cell_type": "code",
   "execution_count": 10,
   "id": "6785ed01",
   "metadata": {},
   "outputs": [],
   "source": [
    "evaluator = FitnessEvaluator(test_ctx, action_mapper)"
   ]
  },
  {
   "cell_type": "code",
   "execution_count": 11,
   "id": "6e0bd0dc",
   "metadata": {},
   "outputs": [],
   "source": [
    "from itapia_common.dblib.services import RuleService\n",
    "from itapia_common.dblib.session import get_rdbms_session\n",
    "\n",
    "db = next(get_rdbms_session())\n",
    "rule_service = RuleService(db)"
   ]
  },
  {
   "cell_type": "code",
   "execution_count": 12,
   "id": "7ad64d86",
   "metadata": {},
   "outputs": [],
   "source": [
    "rules = rule_service.get_all_active_rules()"
   ]
  },
  {
   "cell_type": "code",
   "execution_count": 13,
   "id": "ea602913",
   "metadata": {},
   "outputs": [],
   "source": [
    "test_rule_ent = rules[2]"
   ]
  },
  {
   "cell_type": "code",
   "execution_count": 14,
   "id": "eb42772b",
   "metadata": {},
   "outputs": [],
   "source": [
    "from itapia_common.rules.rule import Rule\n",
    "\n",
    "test_rule = Rule.from_entity(test_rule_ent)"
   ]
  },
  {
   "cell_type": "code",
   "execution_count": 18,
   "id": "e70450ef",
   "metadata": {},
   "outputs": [
    {
     "name": "stderr",
     "output_type": "stream",
     "text": [
      "[2025-08-21 14:17:52] INFO by Backtest Simulator: Running simulation on 1919 historical data points...\n",
      "[2025-08-21 14:17:53] INFO by Backtest Simulator: Simulation finished. Total trades executed: 24\n"
     ]
    }
   ],
   "source": [
    "obj, metrics = evaluator.evaluate(test_rule)"
   ]
  },
  {
   "cell_type": "code",
   "execution_count": 19,
   "id": "acbba94b",
   "metadata": {},
   "outputs": [
    {
     "data": {
      "text/plain": [
       "BacktestPerformanceMetrics(num_trades=24, total_return_pct=0.07071921098612162, max_drawdown_pct=0.044534031673522365, win_rate_pct=0.625, profit_factor=1.6798676964213475, sharpe_ratio=3.5426853356497587)"
      ]
     },
     "execution_count": 19,
     "metadata": {},
     "output_type": "execute_result"
    }
   ],
   "source": [
    "metrics"
   ]
  },
  {
   "cell_type": "code",
   "execution_count": 20,
   "id": "6182a774",
   "metadata": {},
   "outputs": [
    {
     "data": {
      "text/plain": [
       "(0.07071921098612162,\n",
       " 3.5426853356497587,\n",
       " 0.9554659683264777,\n",
       " 0.625,\n",
       " 0.5187150381839054,\n",
       " 24.0)"
      ]
     },
     "execution_count": 20,
     "metadata": {},
     "output_type": "execute_result"
    }
   ],
   "source": [
    "obj"
   ]
  },
  {
   "cell_type": "code",
   "execution_count": 38,
   "id": "b81bce08",
   "metadata": {},
   "outputs": [],
   "source": [
    "# Trong notebook của bạn, đảm bảo có các import này\n",
    "from itapia_common.rules.rule import Rule\n",
    "from itapia_common.rules.parser import parse_tree\n",
    "from itapia_common.rules import names as nms\n",
    "from itapia_common.rules.nodes.registry import create_node, get_nodes_by_type\n",
    "from itapia_common.schemas.enums import NodeType, SemanticType\n",
    "from itapia_common.schemas.entities.rules import RuleEntity, NodeEntity"
   ]
  },
  {
   "cell_type": "code",
   "execution_count": 30,
   "id": "31a977ca",
   "metadata": {},
   "outputs": [],
   "source": [
    "sell_strong_node = create_node(nms.CONST_NUM(-0.8))"
   ]
  },
  {
   "cell_type": "code",
   "execution_count": 36,
   "id": "d68e9b3a",
   "metadata": {},
   "outputs": [
    {
     "data": {
      "text/plain": [
       "[NodeSpecEntity(node_name='OPR_TO_DECISION_SIGNAL', description='Scales any numerical input to [-1, 1] and casts it as a DECISION_SIGNAL.', node_type=<NodeType.OPERATOR: 'operator'>, return_type=<SemanticType.DECISION_SIGNAL: 'DECISION_SIGNAL'>, args_type=[<SemanticType.ANY: 'ANY'>])]"
      ]
     },
     "execution_count": 36,
     "metadata": {},
     "output_type": "execute_result"
    }
   ],
   "source": [
    "get_nodes_by_type(node_type=NodeType.OPERATOR, purpose=SemanticType.DECISION_SIGNAL)"
   ]
  },
  {
   "cell_type": "code",
   "execution_count": 39,
   "id": "31f939a5",
   "metadata": {},
   "outputs": [],
   "source": [
    "from datetime import datetime, timezone\n",
    "rule_ent = RuleEntity(\n",
    "    rule_id='SELL_OVER',\n",
    "    name='sell',\n",
    "    description='',\n",
    "    purpose=SemanticType.DECISION_SIGNAL,\n",
    "    version=1.0,\n",
    "    is_active=True,\n",
    "    created_at=datetime.now(timezone.utc),\n",
    "    updated_at=datetime.now(timezone.utc),\n",
    "    root=NodeEntity(\n",
    "        node_name=nms.OPR_TO_DECISION_SIGNAL,\n",
    "        children=[\n",
    "            NodeEntity(node_name=nms.CONST_NUM(-0.8))\n",
    "        ]\n",
    "    )\n",
    ")"
   ]
  },
  {
   "cell_type": "code",
   "execution_count": 40,
   "id": "33af42db",
   "metadata": {},
   "outputs": [],
   "source": [
    "test_rule = Rule.from_entity(rule_ent)"
   ]
  },
  {
   "cell_type": "code",
   "execution_count": null,
   "id": "ed70d26d",
   "metadata": {},
   "outputs": [
    {
     "data": {
      "text/plain": [
       "-0.8"
      ]
     },
     "execution_count": 44,
     "metadata": {},
     "output_type": "execute_result"
    }
   ],
   "source": []
  },
  {
   "cell_type": "code",
   "execution_count": 46,
   "id": "e1125001",
   "metadata": {},
   "outputs": [
    {
     "name": "stderr",
     "output_type": "stream",
     "text": [
      "[2025-08-21 14:29:33] INFO by Backtest Simulator: Running simulation on 1919 historical data points...\n",
      "[2025-08-21 14:29:33] INFO by Backtest Simulator: Simulation finished. Total trades executed: 92\n"
     ]
    }
   ],
   "source": [
    "obj, metrics1 = evaluator.evaluate(test_rule)"
   ]
  },
  {
   "cell_type": "code",
   "execution_count": 47,
   "id": "a8f94baa",
   "metadata": {},
   "outputs": [],
   "source": [
    "from app.backtest.evaluator import metrics"
   ]
  },
  {
   "cell_type": "code",
   "execution_count": 50,
   "id": "ace87e74",
   "metadata": {},
   "outputs": [
    {
     "data": {
      "text/plain": [
       "action_type\n",
       "SHORT    92\n",
       "Name: count, dtype: int64"
      ]
     },
     "execution_count": 50,
     "metadata": {},
     "output_type": "execute_result"
    }
   ],
   "source": [
    "metrics.trades_df['action_type'].value_counts()"
   ]
  },
  {
   "cell_type": "code",
   "execution_count": null,
   "id": "576942bc",
   "metadata": {},
   "outputs": [],
   "source": []
  }
 ],
 "metadata": {
  "kernelspec": {
   "display_name": "Python 3",
   "language": "python",
   "name": "python3"
  },
  "language_info": {
   "codemirror_mode": {
    "name": "ipython",
    "version": 3
   },
   "file_extension": ".py",
   "mimetype": "text/x-python",
   "name": "python",
   "nbconvert_exporter": "python",
   "pygments_lexer": "ipython3",
   "version": "3.13.3"
  }
 },
 "nbformat": 4,
 "nbformat_minor": 5
}
