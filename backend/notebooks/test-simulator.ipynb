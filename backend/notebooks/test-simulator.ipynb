{
 "cells": [
  {
   "cell_type": "code",
   "execution_count": null,
   "id": "16caf5e9",
   "metadata": {},
   "outputs": [],
   "source": [
    "import sys\n",
    "import os\n",
    "\n",
    "sys.path.append('F:/ai-ml/itapia/backend/evo_worker')\n",
    "sys.path.append('F:/ai-ml/itapia/backend/shared')"
   ]
  },
  {
   "cell_type": "code",
   "execution_count": null,
   "id": "876b03ca",
   "metadata": {},
   "outputs": [],
   "source": [
    "os.environ['POSTGRES_HOST'] = 'localhost'\n",
    "os.environ['REDIS_HOST'] = 'localhost'"
   ]
  },
  {
   "cell_type": "code",
   "execution_count": null,
   "id": "cebbdda3",
   "metadata": {},
   "outputs": [],
   "source": [
    "from app.dependencies import get_backtest_context_manager, create_dependencies\n",
    "create_dependencies()"
   ]
  },
  {
   "cell_type": "code",
   "execution_count": null,
   "id": "54077977",
   "metadata": {},
   "outputs": [],
   "source": [
    "context_mng = get_backtest_context_manager()"
   ]
  },
  {
   "cell_type": "code",
   "execution_count": null,
   "id": "ba2c733c",
   "metadata": {},
   "outputs": [],
   "source": [
    "context_mng.init_ready_contexts()"
   ]
  },
  {
   "cell_type": "code",
   "execution_count": null,
   "id": "040879eb",
   "metadata": {},
   "outputs": [],
   "source": [
    "import nest_asyncio\n",
    "nest_asyncio.apply()\n",
    "await context_mng.get_context('AAPL').load_data_into_memory()"
   ]
  },
  {
   "cell_type": "code",
   "execution_count": null,
   "id": "7947399b",
   "metadata": {},
   "outputs": [],
   "source": [
    "test_ctx = context_mng.get_context('AAPL')"
   ]
  },
  {
   "cell_type": "code",
   "execution_count": null,
   "id": "f92f497d",
   "metadata": {},
   "outputs": [],
   "source": [
    "from app.backtest.evaluator import FitnessEvaluator\n",
    "from app.backtest.action import ShortSwingActionMapper"
   ]
  },
  {
   "cell_type": "code",
   "execution_count": null,
   "id": "944b298e",
   "metadata": {},
   "outputs": [],
   "source": [
    "action_mapper = ShortSwingActionMapper()"
   ]
  },
  {
   "cell_type": "code",
   "execution_count": null,
   "id": "6785ed01",
   "metadata": {},
   "outputs": [],
   "source": [
    "evaluator = FitnessEvaluator(test_ctx, action_mapper)"
   ]
  },
  {
   "cell_type": "code",
   "execution_count": null,
   "id": "6e0bd0dc",
   "metadata": {},
   "outputs": [],
   "source": [
    "from itapia_common.dblib.services import RuleService\n",
    "from itapia_common.dblib.session import get_rdbms_session\n",
    "\n",
    "db = next(get_rdbms_session())\n",
    "rule_service = RuleService(db)"
   ]
  },
  {
   "cell_type": "code",
   "execution_count": null,
   "id": "7ad64d86",
   "metadata": {},
   "outputs": [],
   "source": [
    "rules = rule_service.get_all_active_rules()"
   ]
  },
  {
   "cell_type": "code",
   "execution_count": null,
   "id": "ea602913",
   "metadata": {},
   "outputs": [],
   "source": [
    "test_rule_ent = rules[2]"
   ]
  },
  {
   "cell_type": "code",
   "execution_count": null,
   "id": "eb42772b",
   "metadata": {},
   "outputs": [],
   "source": [
    "from itapia_common.rules.rule import Rule\n",
    "\n",
    "test_rule = Rule.from_entity(test_rule_ent)"
   ]
  },
  {
   "cell_type": "code",
   "execution_count": null,
   "id": "e70450ef",
   "metadata": {},
   "outputs": [],
   "source": [
    "obj, metrics = evaluator.evaluate(test_rule)"
   ]
  },
  {
   "cell_type": "code",
   "execution_count": null,
   "id": "acbba94b",
   "metadata": {},
   "outputs": [],
   "source": [
    "metrics"
   ]
  },
  {
   "cell_type": "code",
   "execution_count": null,
   "id": "6182a774",
   "metadata": {},
   "outputs": [],
   "source": [
    "obj"
   ]
  },
  {
   "cell_type": "code",
   "execution_count": null,
   "id": "b81bce08",
   "metadata": {},
   "outputs": [],
   "source": [
    "# Trong notebook của bạn, đảm bảo có các import này\n",
    "from itapia_common.rules.rule import Rule\n",
    "from itapia_common.rules.parser import parse_tree\n",
    "from itapia_common.rules import names as nms\n",
    "from itapia_common.rules.nodes.registry import create_node, get_nodes_by_type\n",
    "from itapia_common.schemas.enums import NodeType, SemanticType\n",
    "from itapia_common.schemas.entities.rules import RuleEntity, NodeEntity"
   ]
  },
  {
   "cell_type": "code",
   "execution_count": null,
   "id": "31a977ca",
   "metadata": {},
   "outputs": [],
   "source": [
    "sell_strong_node = create_node(nms.CONST_NUM(-0.8))"
   ]
  },
  {
   "cell_type": "code",
   "execution_count": null,
   "id": "d68e9b3a",
   "metadata": {},
   "outputs": [],
   "source": [
    "get_nodes_by_type(node_type=NodeType.OPERATOR, purpose=SemanticType.DECISION_SIGNAL)"
   ]
  },
  {
   "cell_type": "code",
   "execution_count": null,
   "id": "31f939a5",
   "metadata": {},
   "outputs": [],
   "source": [
    "from datetime import datetime, timezone\n",
    "rule_ent = RuleEntity(\n",
    "    rule_id='SELL_OVER',\n",
    "    name='sell',\n",
    "    description='',\n",
    "    purpose=SemanticType.DECISION_SIGNAL,\n",
    "    version=1.0,\n",
    "    is_active=True,\n",
    "    created_at=datetime.now(timezone.utc),\n",
    "    updated_at=datetime.now(timezone.utc),\n",
    "    root=NodeEntity(\n",
    "        node_name=nms.OPR_TO_DECISION_SIGNAL,\n",
    "        children=[\n",
    "            NodeEntity(node_name=nms.CONST_NUM(-0.8))\n",
    "        ]\n",
    "    )\n",
    ")"
   ]
  },
  {
   "cell_type": "code",
   "execution_count": null,
   "id": "33af42db",
   "metadata": {},
   "outputs": [],
   "source": [
    "test_rule = Rule.from_entity(rule_ent)"
   ]
  },
  {
   "cell_type": "code",
   "execution_count": null,
   "id": "ed70d26d",
   "metadata": {},
   "outputs": [],
   "source": []
  },
  {
   "cell_type": "code",
   "execution_count": null,
   "id": "e1125001",
   "metadata": {},
   "outputs": [],
   "source": [
    "obj, metrics1 = evaluator.evaluate(test_rule)"
   ]
  },
  {
   "cell_type": "code",
   "execution_count": null,
   "id": "a8f94baa",
   "metadata": {},
   "outputs": [],
   "source": [
    "from app.backtest.evaluator import metrics"
   ]
  },
  {
   "cell_type": "code",
   "execution_count": null,
   "id": "ace87e74",
   "metadata": {},
   "outputs": [],
   "source": [
    "metrics.trades_df['action_type'].value_counts()"
   ]
  }
 ],
 "metadata": {
  "kernelspec": {
   "display_name": "Python 3",
   "language": "python",
   "name": "python3"
  },
  "language_info": {
   "codemirror_mode": {
    "name": "ipython",
    "version": 3
   },
   "file_extension": ".py",
   "mimetype": "text/x-python",
   "name": "python",
   "nbconvert_exporter": "python",
   "pygments_lexer": "ipython3",
   "version": "3.13.3"
  }
 },
 "nbformat": 4,
 "nbformat_minor": 5
}
