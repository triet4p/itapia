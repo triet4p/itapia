{
 "cells": [
  {
   "cell_type": "code",
   "execution_count": null,
   "id": "16caf5e9",
   "metadata": {},
   "outputs": [],
   "source": [
    "import sys\n",
    "import os\n",
    "\n",
    "sys.path.append('F:/ai-ml/itapia/backend/evo_worker')\n",
    "sys.path.append('F:/ai-ml/itapia/backend/shared')"
   ]
  },
  {
   "cell_type": "code",
   "execution_count": null,
   "id": "876b03ca",
   "metadata": {},
   "outputs": [],
   "source": [
    "os.environ['POSTGRES_HOST'] = 'localhost'\n",
    "os.environ['REDIS_HOST'] = 'localhost'"
   ]
  },
  {
   "cell_type": "code",
   "execution_count": null,
   "id": "cebbdda3",
   "metadata": {},
   "outputs": [],
   "source": [
    "from app.dependencies import get_backtest_context_manager, create_dependencies\n",
    "create_dependencies()"
   ]
  },
  {
   "cell_type": "code",
   "execution_count": null,
   "id": "54077977",
   "metadata": {},
   "outputs": [],
   "source": [
    "context_mng = get_backtest_context_manager()"
   ]
  },
  {
   "cell_type": "code",
   "execution_count": null,
   "id": "ba2c733c",
   "metadata": {},
   "outputs": [],
   "source": [
    "context_mng.init_ready_contexts()"
   ]
  },
  {
   "cell_type": "code",
   "execution_count": null,
   "id": "040879eb",
   "metadata": {},
   "outputs": [],
   "source": [
    "import nest_asyncio\n",
    "nest_asyncio.apply()\n",
    "await context_mng.get_context('AAPL').load_data_into_memory()\n",
    "await context_mng.get_context('NVDA').load_data_into_memory()\n",
    "await context_mng.get_context('O').load_data_into_memory()"
   ]
  },
  {
   "cell_type": "code",
   "execution_count": null,
   "id": "7947399b",
   "metadata": {},
   "outputs": [],
   "source": [
    "contexts = context_mng.get_ready_contexts()"
   ]
  },
  {
   "cell_type": "code",
   "execution_count": null,
   "id": "f92f497d",
   "metadata": {},
   "outputs": [],
   "source": [
    "from app.backtest.evaluator import SingleContextFitnessEvaluator, MultiContextFitnessEvaluator\n",
    "from app.backtest.action import ShortSwingActionMapper"
   ]
  },
  {
   "cell_type": "code",
   "execution_count": null,
   "id": "944b298e",
   "metadata": {},
   "outputs": [],
   "source": [
    "action_mapper = ShortSwingActionMapper()"
   ]
  },
  {
   "cell_type": "code",
   "execution_count": null,
   "id": "6e0bd0dc",
   "metadata": {},
   "outputs": [],
   "source": [
    "from itapia_common.dblib.services import RuleService\n",
    "from itapia_common.dblib.session import get_rdbms_session\n",
    "\n",
    "db = next(get_rdbms_session())\n",
    "rule_service = RuleService(db)"
   ]
  },
  {
   "cell_type": "code",
   "execution_count": null,
   "id": "7ad64d86",
   "metadata": {},
   "outputs": [],
   "source": [
    "rules = rule_service.get_all_active_rules()"
   ]
  },
  {
   "cell_type": "code",
   "execution_count": null,
   "id": "ea602913",
   "metadata": {},
   "outputs": [],
   "source": [
    "test_rule_ent = rules[2]"
   ]
  },
  {
   "cell_type": "code",
   "execution_count": null,
   "id": "eb42772b",
   "metadata": {},
   "outputs": [],
   "source": [
    "from itapia_common.rules.rule import Rule\n",
    "\n",
    "test_rule = Rule.from_entity(test_rule_ent)"
   ]
  },
  {
   "cell_type": "code",
   "execution_count": null,
   "id": "01c62652",
   "metadata": {},
   "outputs": [],
   "source": [
    "evaluator0 = SingleContextFitnessEvaluator(contexts[0], action_mapper=action_mapper)\n",
    "evaluator1 = SingleContextFitnessEvaluator(contexts[1], action_mapper=action_mapper)\n",
    "evaluator2 = SingleContextFitnessEvaluator(contexts[2], action_mapper=action_mapper)"
   ]
  },
  {
   "cell_type": "code",
   "execution_count": null,
   "id": "c893c409",
   "metadata": {},
   "outputs": [],
   "source": [
    "evaluator0.evaluate(test_rule)"
   ]
  },
  {
   "cell_type": "code",
   "execution_count": null,
   "id": "9bb67847",
   "metadata": {},
   "outputs": [],
   "source": [
    "evaluator1.evaluate(test_rule)"
   ]
  },
  {
   "cell_type": "code",
   "execution_count": null,
   "id": "406dc8e1",
   "metadata": {},
   "outputs": [],
   "source": [
    "evaluator2.evaluate(test_rule)"
   ]
  },
  {
   "cell_type": "code",
   "execution_count": null,
   "id": "ca506614",
   "metadata": {},
   "outputs": [],
   "source": [
    "multi_ctx_evaluator = MultiContextFitnessEvaluator(contexts, action_mapper)"
   ]
  },
  {
   "cell_type": "code",
   "execution_count": null,
   "id": "116ca00f",
   "metadata": {},
   "outputs": [],
   "source": [
    "multi_ctx_evaluator.evaluate(test_rule, 'median')"
   ]
  },
  {
   "cell_type": "code",
   "execution_count": null,
   "id": "6efc8eff",
   "metadata": {},
   "outputs": [],
   "source": []
  }
 ],
 "metadata": {
  "kernelspec": {
   "display_name": "Python 3",
   "language": "python",
   "name": "python3"
  },
  "language_info": {
   "codemirror_mode": {
    "name": "ipython",
    "version": 3
   },
   "file_extension": ".py",
   "mimetype": "text/x-python",
   "name": "python",
   "nbconvert_exporter": "python",
   "pygments_lexer": "ipython3",
   "version": "3.13.3"
  }
 },
 "nbformat": 4,
 "nbformat_minor": 5
}
