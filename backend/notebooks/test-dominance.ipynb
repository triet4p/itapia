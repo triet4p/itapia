{
 "cells": [
  {
   "cell_type": "code",
   "execution_count": null,
   "id": "ee69f632",
   "metadata": {},
   "outputs": [],
   "source": [
    "import sys\n",
    "import os\n",
    "\n",
    "sys.path.append('F:/ai-ml/itapia/backend/evo_worker')\n",
    "sys.path.append('F:/ai-ml/itapia/backend/shared')\n",
    "\n",
    "os.environ['POSTGRES_HOST'] = 'localhost'\n",
    "os.environ['REDIS_HOST'] = 'localhost'"
   ]
  },
  {
   "cell_type": "code",
   "execution_count": null,
   "id": "0a59f8a2",
   "metadata": {},
   "outputs": [],
   "source": [
    "from app.dependencies import create_dependencies, get_backtest_context_manager\n",
    "create_dependencies()\n",
    "\n",
    "context_mng = get_backtest_context_manager()"
   ]
  },
  {
   "cell_type": "code",
   "execution_count": null,
   "id": "1589ec96",
   "metadata": {},
   "outputs": [],
   "source": [
    "context_mng.init_ready_contexts()"
   ]
  },
  {
   "cell_type": "code",
   "execution_count": null,
   "id": "1e39701e",
   "metadata": {},
   "outputs": [],
   "source": [
    "import nest_asyncio\n",
    "nest_asyncio.apply()\n",
    "cnt = 0\n",
    "for _, context in context_mng.contexts.items():\n",
    "    await context.load_data_into_memory()\n",
    "    cnt += 1\n",
    "    if cnt == 10:\n",
    "        break"
   ]
  },
  {
   "cell_type": "code",
   "execution_count": null,
   "id": "6f7cad2f",
   "metadata": {},
   "outputs": [],
   "source": [
    "[x.ticker for x in context_mng.get_ready_contexts()]"
   ]
  },
  {
   "cell_type": "code",
   "execution_count": null,
   "id": "8ff792f2",
   "metadata": {},
   "outputs": [],
   "source": [
    "from app.backtest.evaluator import MultiContextFitnessEvaluator, SingleContextFitnessEvaluator\n",
    "from app.backtest.action import MediumSwingActionMapper"
   ]
  },
  {
   "cell_type": "code",
   "execution_count": null,
   "id": "1d40210f",
   "metadata": {},
   "outputs": [],
   "source": [
    "evaluator = SingleContextFitnessEvaluator(context_mng.get_context('NVDA'),\n",
    "                                         MediumSwingActionMapper())"
   ]
  },
  {
   "cell_type": "code",
   "execution_count": null,
   "id": "1cce16d8",
   "metadata": {},
   "outputs": [],
   "source": [
    "from app.algorithms.structure.operators.construct import RandomMaxDepthInitOperator\n",
    "from itapia_common.schemas.entities.rules import SemanticType\n",
    "init_opr = RandomMaxDepthInitOperator(purpose=SemanticType.DECISION_SIGNAL, max_depth=6)"
   ]
  },
  {
   "cell_type": "code",
   "execution_count": null,
   "id": "2ecf3fdb",
   "metadata": {},
   "outputs": [],
   "source": [
    "from app.algorithms.structure.pop import Population\n",
    "pop = Population(20)"
   ]
  },
  {
   "cell_type": "code",
   "execution_count": null,
   "id": "7ae8614b",
   "metadata": {},
   "outputs": [],
   "source": [
    "for _ in range(pop.population_size):\n",
    "    pop.population.append(init_opr())"
   ]
  },
  {
   "cell_type": "code",
   "execution_count": null,
   "id": "59dde594",
   "metadata": {},
   "outputs": [],
   "source": [
    "for ind in pop.population:\n",
    "    ind.cal_fitness(evaluator)"
   ]
  },
  {
   "cell_type": "code",
   "execution_count": null,
   "id": "101328c8",
   "metadata": {},
   "outputs": [],
   "source": [
    "for i, ind in enumerate(pop.population):\n",
    "    print(f'Ind {id(ind)}: {ind.fitness}')"
   ]
  },
  {
   "cell_type": "code",
   "execution_count": null,
   "id": "43f2d5f2",
   "metadata": {},
   "outputs": [],
   "source": []
  }
 ],
 "metadata": {
  "kernelspec": {
   "display_name": "Python 3",
   "language": "python",
   "name": "python3"
  },
  "language_info": {
   "codemirror_mode": {
    "name": "ipython",
    "version": 3
   },
   "file_extension": ".py",
   "mimetype": "text/x-python",
   "name": "python",
   "nbconvert_exporter": "python",
   "pygments_lexer": "ipython3",
   "version": "3.13.3"
  }
 },
 "nbformat": 4,
 "nbformat_minor": 5
}
