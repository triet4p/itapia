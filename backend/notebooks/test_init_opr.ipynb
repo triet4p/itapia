{
 "cells": [
  {
   "cell_type": "code",
   "execution_count": null,
   "id": "4e19c054",
   "metadata": {},
   "outputs": [],
   "source": [
    "import sys\n",
    "import os\n",
    "\n",
    "sys.path.append('F:/ai-ml/itapia/backend/evo_worker')\n",
    "sys.path.append('F:/ai-ml/itapia/backend/shared')"
   ]
  },
  {
   "cell_type": "code",
   "execution_count": null,
   "id": "e2b0719d",
   "metadata": {},
   "outputs": [],
   "source": [
    "from app.algorithms.operators.construct import RandomMaxDepthInitOperator"
   ]
  },
  {
   "cell_type": "code",
   "execution_count": null,
   "id": "e9bc114a",
   "metadata": {},
   "outputs": [],
   "source": [
    "from itapia_common.schemas.entities.rules import SemanticType"
   ]
  },
  {
   "cell_type": "code",
   "execution_count": null,
   "id": "8ee657af",
   "metadata": {},
   "outputs": [],
   "source": [
    "init_opr = RandomMaxDepthInitOperator(purpose=SemanticType.DECISION_SIGNAL, max_depth=5)"
   ]
  },
  {
   "cell_type": "code",
   "execution_count": null,
   "id": "bf4cbe56",
   "metadata": {},
   "outputs": [],
   "source": [
    "init_opr.operators_by_type"
   ]
  },
  {
   "cell_type": "code",
   "execution_count": null,
   "id": "26a6876e",
   "metadata": {},
   "outputs": [],
   "source": [
    "ind = init_opr()\n",
    "ind.chromosome.to_entity().root"
   ]
  },
  {
   "cell_type": "code",
   "execution_count": null,
   "id": "853f591e",
   "metadata": {},
   "outputs": [],
   "source": []
  }
 ],
 "metadata": {
  "kernelspec": {
   "display_name": "Python 3",
   "language": "python",
   "name": "python3"
  },
  "language_info": {
   "codemirror_mode": {
    "name": "ipython",
    "version": 3
   },
   "file_extension": ".py",
   "mimetype": "text/x-python",
   "name": "python",
   "nbconvert_exporter": "python",
   "pygments_lexer": "ipython3",
   "version": "3.13.3"
  }
 },
 "nbformat": 4,
 "nbformat_minor": 5
}
