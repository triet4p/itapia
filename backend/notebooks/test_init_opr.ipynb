{
 "cells": [
  {
   "cell_type": "code",
   "execution_count": null,
   "id": "4e19c054",
   "metadata": {},
   "outputs": [],
   "source": [
    "import sys\n",
    "import os\n",
    "\n",
    "sys.path.append('F:/ai-ml/itapia/backend/evo_worker')\n",
    "sys.path.append('F:/ai-ml/itapia/backend/shared')"
   ]
  },
  {
   "cell_type": "code",
   "execution_count": null,
   "id": "e2b0719d",
   "metadata": {},
   "outputs": [],
   "source": [
    "from app.algorithms.structure.operators.construct import RandomMaxDepthInitOperator"
   ]
  },
  {
   "cell_type": "code",
   "execution_count": null,
   "id": "e9bc114a",
   "metadata": {},
   "outputs": [],
   "source": [
    "from itapia_common.schemas.entities.rules import SemanticType"
   ]
  },
  {
   "cell_type": "code",
   "execution_count": null,
   "id": "8ee657af",
   "metadata": {},
   "outputs": [],
   "source": [
    "init_opr = RandomMaxDepthInitOperator(purpose=SemanticType.DECISION_SIGNAL, max_depth=5)"
   ]
  },
  {
   "cell_type": "code",
   "execution_count": null,
   "id": "bf4cbe56",
   "metadata": {},
   "outputs": [],
   "source": [
    "init_opr.operators_by_type"
   ]
  },
  {
   "cell_type": "code",
   "execution_count": null,
   "id": "1e530fd7",
   "metadata": {},
   "outputs": [],
   "source": [
    "ind1 = init_opr()"
   ]
  },
  {
   "cell_type": "code",
   "execution_count": null,
   "id": "f3f7735a",
   "metadata": {},
   "outputs": [],
   "source": [
    "from itapia_common.rules.visualize import visualize_rule\n",
    "visualize_rule(ind1.chromosome, 'ind1', False)"
   ]
  },
  {
   "cell_type": "code",
   "execution_count": null,
   "id": "47bbcd6b",
   "metadata": {},
   "outputs": [],
   "source": [
    "ind2 = init_opr()\n",
    "visualize_rule(ind2.chromosome, 'ind2', False)"
   ]
  },
  {
   "cell_type": "code",
   "execution_count": null,
   "id": "48079e4a",
   "metadata": {},
   "outputs": [],
   "source": [
    "from app.algorithms.structure.operators import crossover, mutation"
   ]
  },
  {
   "cell_type": "code",
   "execution_count": null,
   "id": "3f8481d4",
   "metadata": {},
   "outputs": [],
   "source": [
    "subtree_crossover = crossover.SubtreeCrossoverOperator()\n",
    "offs = subtree_crossover(ind1, ind2)"
   ]
  },
  {
   "cell_type": "code",
   "execution_count": null,
   "id": "978e4d19",
   "metadata": {},
   "outputs": [],
   "source": [
    "visualize_rule(offs[0].chromosome, 'offs1', False)"
   ]
  },
  {
   "cell_type": "code",
   "execution_count": null,
   "id": "13ab8afa",
   "metadata": {},
   "outputs": [],
   "source": [
    "subtree_mutation = mutation.SubtreeMutationOperator(max_subtree_depth=4, init_opr_template=RandomMaxDepthInitOperator)"
   ]
  },
  {
   "cell_type": "code",
   "execution_count": null,
   "id": "35b90a0c",
   "metadata": {},
   "outputs": [],
   "source": [
    "offs1_1 = subtree_mutation(offs[0])"
   ]
  },
  {
   "cell_type": "code",
   "execution_count": null,
   "id": "8ea9b282",
   "metadata": {},
   "outputs": [],
   "source": [
    "visualize_rule(offs1_1.chromosome, 'offs1_1', False)"
   ]
  },
  {
   "cell_type": "code",
   "execution_count": null,
   "id": "3009b0af",
   "metadata": {},
   "outputs": [],
   "source": [
    "visualize_rule(offs[1].chromosome, 'offs2', False)"
   ]
  },
  {
   "cell_type": "code",
   "execution_count": null,
   "id": "bb04620a",
   "metadata": {},
   "outputs": [],
   "source": [
    "point_mutation = mutation.PointMutationOperator()\n",
    "offs2_1 = point_mutation(offs[1])"
   ]
  },
  {
   "cell_type": "code",
   "execution_count": null,
   "id": "3e119f54",
   "metadata": {},
   "outputs": [],
   "source": [
    "point_mutation.operators_by_type"
   ]
  },
  {
   "cell_type": "code",
   "execution_count": null,
   "id": "51ded05d",
   "metadata": {},
   "outputs": [],
   "source": [
    "visualize_rule(offs2_1.chromosome, \"offs2_1\", False)"
   ]
  },
  {
   "cell_type": "code",
   "execution_count": null,
   "id": "21dbc5ca",
   "metadata": {},
   "outputs": [],
   "source": [
    "shrink_mutation = mutation.ShrinkMutationOperator()\n",
    "offs2_2 = shrink_mutation(offs[1])"
   ]
  },
  {
   "cell_type": "code",
   "execution_count": null,
   "id": "2c4d15dd",
   "metadata": {},
   "outputs": [],
   "source": [
    "visualize_rule(offs2_2.chromosome, \"offs2_2\", False)"
   ]
  },
  {
   "cell_type": "code",
   "execution_count": null,
   "id": "ac7d2fbf",
   "metadata": {},
   "outputs": [],
   "source": []
  }
 ],
 "metadata": {
  "kernelspec": {
   "display_name": "Python 3",
   "language": "python",
   "name": "python3"
  },
  "language_info": {
   "codemirror_mode": {
    "name": "ipython",
    "version": 3
   },
   "file_extension": ".py",
   "mimetype": "text/x-python",
   "name": "python",
   "nbconvert_exporter": "python",
   "pygments_lexer": "ipython3",
   "version": "3.13.3"
  }
 },
 "nbformat": 4,
 "nbformat_minor": 5
}
