{
 "cells": [
  {
   "cell_type": "code",
   "execution_count": null,
   "metadata": {
    "execution": {
     "iopub.execute_input": "2025-07-19T15:04:54.645258Z",
     "iopub.status.busy": "2025-07-19T15:04:54.644935Z",
     "iopub.status.idle": "2025-07-19T15:04:55.751416Z",
     "shell.execute_reply": "2025-07-19T15:04:55.750194Z",
     "shell.execute_reply.started": "2025-07-19T15:04:54.645225Z"
    },
    "trusted": true
   },
   "outputs": [],
   "source": [
    "#!git clone https://github.com/triet4p/itapia.git"
   ]
  },
  {
   "cell_type": "markdown",
   "metadata": {},
   "source": [
    "# 1. Preparing data and library"
   ]
  },
  {
   "cell_type": "code",
   "execution_count": null,
   "metadata": {
    "execution": {
     "iopub.execute_input": "2025-07-19T15:05:06.249953Z",
     "iopub.status.busy": "2025-07-19T15:05:06.248826Z",
     "iopub.status.idle": "2025-07-19T15:05:06.255222Z",
     "shell.execute_reply": "2025-07-19T15:05:06.253888Z",
     "shell.execute_reply.started": "2025-07-19T15:05:06.249886Z"
    },
    "trusted": true
   },
   "outputs": [],
   "source": [
    "import sys\n",
    "import os\n",
    "sys.path.append(\"./ai_service_quick\")"
   ]
  },
  {
   "cell_type": "code",
   "execution_count": null,
   "metadata": {
    "execution": {
     "iopub.execute_input": "2025-07-19T15:05:07.799836Z",
     "iopub.status.busy": "2025-07-19T15:05:07.799535Z",
     "iopub.status.idle": "2025-07-19T15:05:07.805289Z",
     "shell.execute_reply": "2025-07-19T15:05:07.804172Z",
     "shell.execute_reply.started": "2025-07-19T15:05:07.799813Z"
    },
    "trusted": true
   },
   "outputs": [],
   "source": [
    "import os\n",
    "os.environ['KAGGLE_USERNAME'] = 'trietp1253201581'\n",
    "os.environ['KAGGLE_KEY'] = '...'"
   ]
  },
  {
   "cell_type": "code",
   "execution_count": null,
   "metadata": {
    "execution": {
     "iopub.execute_input": "2025-07-19T15:05:08.855504Z",
     "iopub.status.busy": "2025-07-19T15:05:08.855184Z",
     "iopub.status.idle": "2025-07-19T15:05:14.812885Z",
     "shell.execute_reply": "2025-07-19T15:05:14.811682Z",
     "shell.execute_reply.started": "2025-07-19T15:05:08.855482Z"
    },
    "trusted": true
   },
   "outputs": [],
   "source": [
    "#!pip install python-dotenv"
   ]
  },
  {
   "cell_type": "code",
   "execution_count": null,
   "metadata": {
    "execution": {
     "iopub.execute_input": "2025-07-19T15:05:18.483291Z",
     "iopub.status.busy": "2025-07-19T15:05:18.482898Z",
     "iopub.status.idle": "2025-07-19T15:05:35.949137Z",
     "shell.execute_reply": "2025-07-19T15:05:35.948109Z",
     "shell.execute_reply.started": "2025-07-19T15:05:18.483256Z"
    },
    "trusted": true
   },
   "outputs": [],
   "source": [
    "from datetime import datetime\n",
    "import pandas as pd\n",
    "import numpy as np\n",
    "import pickle\n",
    "import json\n",
    "\n",
    "from numpy.lib.stride_tricks import sliding_window_view\n",
    "\n",
    "# Machine Learning & Validation\n",
    "from sklearn.model_selection import TimeSeriesSplit\n",
    "from sklearn.feature_selection import mutual_info_classif, mutual_info_regression\n",
    "from sklearn.metrics import f1_score, precision_score, recall_score\n",
    "from sklearn.linear_model import LogisticRegression, LinearRegression\n",
    "from sklearn.naive_bayes import MultinomialNB\n",
    "from sklearn.svm import SVC, SVR\n",
    "from sklearn.tree import DecisionTreeRegressor, DecisionTreeClassifier\n",
    "from sklearn.ensemble import RandomForestRegressor, RandomForestClassifier\n",
    "from sklearn.multioutput import MultiOutputRegressor\n",
    "from lightgbm import LGBMRegressor, LGBMClassifier \n",
    "#from xgboost import XGBRegressor, XGBClassifier\n",
    "# Hyperparameter Tuning (khuyến nghị)\n",
    "import optuna \n",
    "\n",
    "# Explainability\n",
    "import shap\n",
    "\n",
    "# Visualization\n",
    "import matplotlib.pyplot as plt\n",
    "import seaborn as sns\n",
    "\n",
    "from app.forecasting.training import TrainingOrchestrator\n",
    "from app.forecasting.task.triple_barrier import TripleBarrierTask, find_triple_barrier_optimal_params\n",
    "from app.forecasting.task.ndays_distribution import NDaysDistributionTask\n",
    "from app.forecasting.model import ScikitLearnForecastingModel\n",
    "from app.forecasting.training.data_split import train_test_split\n",
    "from app.forecasting.post_processing import NDaysDistributionPostProcessor, RoundingProcessor\n",
    "from app.forecasting.training.optim import LGBMClassifierObjective, MultiOutLGBMRegressionObjective, get_best_params_for_kernel_model\n",
    "from app.forecasting.training.data_split import get_walk_forward_splits\n",
    "from app.core.utils import FORECASTING_TRAINING_BONUS_FEATURES, FORECASTING_TRAINING_SCORE_WEIGHTS\n",
    "import app.core.config as cfg\n",
    "\n",
    "# Cấu hình notebook\n",
    "pd.set_option('display.max_columns', 100)\n",
    "shap.initjs()"
   ]
  },
  {
   "cell_type": "code",
   "execution_count": null,
   "metadata": {
    "execution": {
     "iopub.execute_input": "2025-07-19T15:06:48.860618Z",
     "iopub.status.busy": "2025-07-19T15:06:48.859934Z",
     "iopub.status.idle": "2025-07-19T15:06:48.865414Z",
     "shell.execute_reply": "2025-07-19T15:06:48.864315Z",
     "shell.execute_reply.started": "2025-07-19T15:06:48.860588Z"
    },
    "trusted": true
   },
   "outputs": [],
   "source": [
    "SECTOR = 'ENER'"
   ]
  },
  {
   "cell_type": "code",
   "execution_count": null,
   "metadata": {
    "execution": {
     "iopub.execute_input": "2025-07-19T15:06:50.547482Z",
     "iopub.status.busy": "2025-07-19T15:06:50.546915Z",
     "iopub.status.idle": "2025-07-19T15:06:51.400763Z",
     "shell.execute_reply": "2025-07-19T15:06:51.399538Z",
     "shell.execute_reply.started": "2025-07-19T15:06:50.547452Z"
    },
    "trusted": true
   },
   "outputs": [],
   "source": [
    "enriched_df = pd.read_csv(f'/kaggle/input/itapia-training-data/training_{SECTOR}.csv', index_col='datetime_utc')\n",
    "enriched_df.index = pd.to_datetime(enriched_df.index)\n",
    "df = enriched_df.copy()"
   ]
  },
  {
   "cell_type": "code",
   "execution_count": null,
   "metadata": {
    "execution": {
     "iopub.execute_input": "2025-07-19T15:06:54.994928Z",
     "iopub.status.busy": "2025-07-19T15:06:54.993892Z",
     "iopub.status.idle": "2025-07-19T15:06:55.026228Z",
     "shell.execute_reply": "2025-07-19T15:06:55.025137Z",
     "shell.execute_reply.started": "2025-07-19T15:06:54.994882Z"
    },
    "trusted": true
   },
   "outputs": [],
   "source": [
    "train_test_split_date = datetime(2025, 1, 2)\n",
    "test_last_date = datetime(2025, 6, 20)\n",
    "df_train, df_test = train_test_split(df, train_test_split_date, test_last_date)"
   ]
  },
  {
   "cell_type": "code",
   "execution_count": null,
   "metadata": {
    "execution": {
     "iopub.execute_input": "2025-07-19T15:07:02.202925Z",
     "iopub.status.busy": "2025-07-19T15:07:02.201850Z",
     "iopub.status.idle": "2025-07-19T15:42:24.419295Z",
     "shell.execute_reply": "2025-07-19T15:42:24.417793Z",
     "shell.execute_reply.started": "2025-07-19T15:07:02.202888Z"
    },
    "trusted": true
   },
   "outputs": [],
   "source": [
    "best_params, results_df = find_triple_barrier_optimal_params(df_train, df_test,\n",
    "                                                             'close',\n",
    "                                                             horizons=[5, 10, 15, 20],\n",
    "                                                             tp_pcts=np.arange(0.025, 0.1, 0.01),\n",
    "                                                             sl_pcts=np.arange(0.01, 0.07, 0.007))"
   ]
  },
  {
   "cell_type": "code",
   "execution_count": null,
   "metadata": {
    "execution": {
     "iopub.execute_input": "2025-07-19T15:44:13.784809Z",
     "iopub.status.busy": "2025-07-19T15:44:13.784514Z",
     "iopub.status.idle": "2025-07-19T15:44:13.791003Z",
     "shell.execute_reply": "2025-07-19T15:44:13.790157Z",
     "shell.execute_reply.started": "2025-07-19T15:44:13.784789Z"
    },
    "trusted": true
   },
   "outputs": [],
   "source": [
    "orchestrator = TrainingOrchestrator(df)"
   ]
  },
  {
   "cell_type": "code",
   "execution_count": null,
   "metadata": {
    "execution": {
     "iopub.execute_input": "2025-07-19T15:44:36.146833Z",
     "iopub.status.busy": "2025-07-19T15:44:36.146438Z",
     "iopub.status.idle": "2025-07-19T15:44:36.154944Z",
     "shell.execute_reply": "2025-07-19T15:44:36.153939Z",
     "shell.execute_reply.started": "2025-07-19T15:44:36.146792Z"
    },
    "trusted": true
   },
   "outputs": [],
   "source": [
    "task1_id = cfg.TASK_ID_SECTOR_TEMPLATE.format(\n",
    "    problem=cfg.TRIPLE_BARRIER_PROBLEM_ID,\n",
    "    sector=SECTOR\n",
    ")\n",
    "task1 = TripleBarrierTask(task1_id,\n",
    "                          best_params['h'], best_params['tp_pct'], best_params['sl_pct'], \n",
    "                          7, 45)\n",
    "model1 = ScikitLearnForecastingModel('LGBM')\n",
    "orchestrator.register_model_for_task(model1, task1)"
   ]
  },
  {
   "cell_type": "code",
   "execution_count": null,
   "metadata": {
    "execution": {
     "iopub.execute_input": "2025-07-19T15:45:08.006868Z",
     "iopub.status.busy": "2025-07-19T15:45:08.006559Z",
     "iopub.status.idle": "2025-07-19T15:45:08.011360Z",
     "shell.execute_reply": "2025-07-19T15:45:08.010298Z",
     "shell.execute_reply.started": "2025-07-19T15:45:08.006846Z"
    },
    "trusted": true
   },
   "outputs": [],
   "source": [
    "rnd_prc = RoundingProcessor(4)"
   ]
  },
  {
   "cell_type": "code",
   "execution_count": null,
   "metadata": {
    "execution": {
     "iopub.execute_input": "2025-07-19T15:45:50.169158Z",
     "iopub.status.busy": "2025-07-19T15:45:50.168821Z",
     "iopub.status.idle": "2025-07-19T15:45:50.174635Z",
     "shell.execute_reply": "2025-07-19T15:45:50.173521Z",
     "shell.execute_reply.started": "2025-07-19T15:45:50.169123Z"
    },
    "trusted": true
   },
   "outputs": [],
   "source": [
    "task2_id = cfg.TASK_ID_SECTOR_TEMPLATE.format(\n",
    "    problem=cfg.REG_5D_DIS_PROBLEM_ID,\n",
    "    sector=SECTOR\n",
    ")\n",
    "task2 = NDaysDistributionTask(task2_id,\n",
    "                              5, 7, 45)\n",
    "\n",
    "task3_id = cfg.TASK_ID_SECTOR_TEMPLATE.format(\n",
    "    problem=cfg.REG_20D_DIS_PROBLEM_ID,\n",
    "    sector=SECTOR\n",
    ")\n",
    "task3 = NDaysDistributionTask(task3_id,\n",
    "                              20, 7, 45)"
   ]
  },
  {
   "cell_type": "code",
   "execution_count": null,
   "metadata": {
    "execution": {
     "iopub.execute_input": "2025-07-19T15:45:52.596017Z",
     "iopub.status.busy": "2025-07-19T15:45:52.595692Z",
     "iopub.status.idle": "2025-07-19T15:45:52.600584Z",
     "shell.execute_reply": "2025-07-19T15:45:52.599586Z",
     "shell.execute_reply.started": "2025-07-19T15:45:52.595993Z"
    },
    "trusted": true
   },
   "outputs": [],
   "source": [
    "n5d_prc = NDaysDistributionPostProcessor(task2)\n",
    "n20d_prc = NDaysDistributionPostProcessor(task3)"
   ]
  },
  {
   "cell_type": "code",
   "execution_count": null,
   "metadata": {
    "execution": {
     "iopub.execute_input": "2025-07-19T15:46:03.313726Z",
     "iopub.status.busy": "2025-07-19T15:46:03.313395Z",
     "iopub.status.idle": "2025-07-19T15:46:03.321923Z",
     "shell.execute_reply": "2025-07-19T15:46:03.321028Z",
     "shell.execute_reply.started": "2025-07-19T15:46:03.313703Z"
    },
    "trusted": true
   },
   "outputs": [],
   "source": [
    "model_2 = ScikitLearnForecastingModel('Multi-LGBM', \n",
    "                                      post_processors=[n5d_prc, rnd_prc])\n",
    "model_3 = ScikitLearnForecastingModel('Multi-LGBM',\n",
    "                                      post_processors=[n20d_prc, rnd_prc])\n",
    "orchestrator.register_model_for_task(model_2, task2)\n",
    "orchestrator.register_model_for_task(model_3, task3)"
   ]
  },
  {
   "cell_type": "code",
   "execution_count": null,
   "metadata": {
    "execution": {
     "iopub.execute_input": "2025-07-19T15:46:07.024741Z",
     "iopub.status.busy": "2025-07-19T15:46:07.024418Z",
     "iopub.status.idle": "2025-07-19T15:46:17.297558Z",
     "shell.execute_reply": "2025-07-19T15:46:17.296576Z",
     "shell.execute_reply.started": "2025-07-19T15:46:07.024718Z"
    },
    "trusted": true
   },
   "outputs": [],
   "source": [
    "orchestrator.prepare_all_targets()"
   ]
  },
  {
   "cell_type": "code",
   "execution_count": null,
   "metadata": {
    "execution": {
     "iopub.execute_input": "2025-07-19T15:46:45.916932Z",
     "iopub.status.busy": "2025-07-19T15:46:45.915849Z",
     "iopub.status.idle": "2025-07-19T15:50:03.906180Z",
     "shell.execute_reply": "2025-07-19T15:50:03.905235Z",
     "shell.execute_reply.started": "2025-07-19T15:46:45.916896Z"
    },
    "scrolled": true,
    "trusted": true
   },
   "outputs": [],
   "source": [
    "orchestrator.run_feature_selection(weights=FORECASTING_TRAINING_SCORE_WEIGHTS,\n",
    "                                   bonus_features=FORECASTING_TRAINING_BONUS_FEATURES,\n",
    "                                   bonus_multiplier=1.1)"
   ]
  },
  {
   "cell_type": "code",
   "execution_count": null,
   "metadata": {
    "execution": {
     "iopub.execute_input": "2025-07-19T15:51:45.010683Z",
     "iopub.status.busy": "2025-07-19T15:51:45.010346Z",
     "iopub.status.idle": "2025-07-19T15:51:45.026592Z",
     "shell.execute_reply": "2025-07-19T15:51:45.025562Z",
     "shell.execute_reply.started": "2025-07-19T15:51:45.010660Z"
    },
    "trusted": true
   },
   "outputs": [],
   "source": [
    "train_test_split_date = datetime(2024, 12, 31)\n",
    "test_last_date = datetime(2025, 5, 31)\n",
    "orchestrator.split_data(train_test_split_date, test_last_date)"
   ]
  },
  {
   "cell_type": "code",
   "execution_count": null,
   "metadata": {
    "execution": {
     "iopub.execute_input": "2025-07-19T15:53:20.742669Z",
     "iopub.status.busy": "2025-07-19T15:53:20.742333Z",
     "iopub.status.idle": "2025-07-19T15:53:20.804509Z",
     "shell.execute_reply": "2025-07-19T15:53:20.803473Z",
     "shell.execute_reply.started": "2025-07-19T15:53:20.742645Z"
    },
    "trusted": true
   },
   "outputs": [],
   "source": [
    "train_df = orchestrator._train_df.copy()\n",
    "#train_df = train_df[train_df.index >= pd.to_datetime('2023-01-01')]\n",
    "generator = get_walk_forward_splits(train_df, validation_months=4, max_train_months=30)\n",
    "obj1 = LGBMClassifierObjective(model1, train_df,\n",
    "                               direction='maximize',\n",
    "                               generator=generator,\n",
    "                               time_weighted='new-prior',\n",
    "                               weight_bias=1,\n",
    "                               max_cv=3)"
   ]
  },
  {
   "cell_type": "code",
   "execution_count": null,
   "metadata": {
    "execution": {
     "iopub.execute_input": "2025-07-19T15:56:07.456973Z",
     "iopub.status.busy": "2025-07-19T15:56:07.456207Z",
     "iopub.status.idle": "2025-07-19T15:56:07.575940Z",
     "shell.execute_reply": "2025-07-19T15:56:07.574825Z",
     "shell.execute_reply.started": "2025-07-19T15:56:07.456940Z"
    },
    "scrolled": true,
    "trusted": true
   },
   "outputs": [],
   "source": [
    "generator = get_walk_forward_splits(train_df, validation_months=4, max_train_months=30)\n",
    "obj2 = MultiOutLGBMRegressionObjective(model_2, train_df,\n",
    "                                       direction='minimize',\n",
    "                                       generator=generator,\n",
    "                                       time_weighted='new-prior',\n",
    "                                       weight_bias=1,\n",
    "                                       max_cv=3)\n",
    "\n",
    "generator = get_walk_forward_splits(train_df, validation_months=4, max_train_months=30)\n",
    "obj3 = MultiOutLGBMRegressionObjective(model_3, train_df,\n",
    "                                       direction='minimize',\n",
    "                                       generator=generator,\n",
    "                                       time_weighted='new-prior',\n",
    "                                       weight_bias=1,\n",
    "                                       max_cv=3)"
   ]
  },
  {
   "cell_type": "code",
   "execution_count": null,
   "metadata": {
    "execution": {
     "iopub.execute_input": "2025-07-19T15:56:18.080035Z",
     "iopub.status.busy": "2025-07-19T15:56:18.079726Z",
     "iopub.status.idle": "2025-07-19T16:04:17.239724Z",
     "shell.execute_reply": "2025-07-19T16:04:17.238684Z",
     "shell.execute_reply.started": "2025-07-19T15:56:18.080012Z"
    },
    "scrolled": true,
    "trusted": true
   },
   "outputs": [],
   "source": [
    "md1_params = get_best_params_for_kernel_model(obj1, n_trials=120)\n",
    "model1.kernel_model_template = LGBMClassifier(**md1_params)"
   ]
  },
  {
   "cell_type": "code",
   "execution_count": null,
   "metadata": {
    "execution": {
     "iopub.execute_input": "2025-07-19T16:06:11.220387Z",
     "iopub.status.busy": "2025-07-19T16:06:11.219997Z",
     "iopub.status.idle": "2025-07-19T16:12:48.921144Z",
     "shell.execute_reply": "2025-07-19T16:12:48.920193Z",
     "shell.execute_reply.started": "2025-07-19T16:06:11.220363Z"
    },
    "trusted": true
   },
   "outputs": [],
   "source": [
    "md2_params = get_best_params_for_kernel_model(obj2, n_trials=120)\n",
    "model_2.kernel_model_template = MultiOutputRegressor(LGBMRegressor(**md2_params), n_jobs=-1)"
   ]
  },
  {
   "cell_type": "code",
   "execution_count": null,
   "metadata": {
    "trusted": true
   },
   "outputs": [],
   "source": [
    "md3_params = get_best_params_for_kernel_model(obj3, n_trials=120)\n",
    "model_3.kernel_model_template = MultiOutputRegressor(LGBMRegressor(**md3_params), n_jobs=-1)"
   ]
  },
  {
   "cell_type": "code",
   "execution_count": null,
   "metadata": {
    "execution": {
     "iopub.execute_input": "2025-07-19T09:04:44.212656Z",
     "iopub.status.busy": "2025-07-19T09:04:44.212340Z",
     "iopub.status.idle": "2025-07-19T09:07:19.373461Z",
     "shell.execute_reply": "2025-07-19T09:07:19.372477Z",
     "shell.execute_reply.started": "2025-07-19T09:04:44.212634Z"
    },
    "trusted": true
   },
   "outputs": [],
   "source": [
    "orchestrator.run_walk_forward_validation(4, max_train_months=30)"
   ]
  },
  {
   "cell_type": "code",
   "execution_count": null,
   "metadata": {
    "execution": {
     "iopub.execute_input": "2025-07-19T09:08:11.487758Z",
     "iopub.status.busy": "2025-07-19T09:08:11.487417Z",
     "iopub.status.idle": "2025-07-19T09:08:11.492640Z",
     "shell.execute_reply": "2025-07-19T09:08:11.491344Z",
     "shell.execute_reply.started": "2025-07-19T09:08:11.487735Z"
    },
    "trusted": true
   },
   "outputs": [],
   "source": [
    "import app.core.config as cfg"
   ]
  },
  {
   "cell_type": "code",
   "execution_count": null,
   "metadata": {
    "execution": {
     "iopub.execute_input": "2025-07-19T09:08:22.383503Z",
     "iopub.status.busy": "2025-07-19T09:08:22.382394Z",
     "iopub.status.idle": "2025-07-19T09:10:05.983338Z",
     "shell.execute_reply": "2025-07-19T09:10:05.982416Z",
     "shell.execute_reply.started": "2025-07-19T09:08:22.383472Z"
    },
    "scrolled": true,
    "trusted": true
   },
   "outputs": [],
   "source": [
    "orchestrator.run_final_training_and_registration(cfg.KAGGLE_USERNAME)"
   ]
  },
  {
   "cell_type": "code",
   "execution_count": null,
   "metadata": {
    "trusted": true
   },
   "outputs": [],
   "source": []
  }
 ],
 "metadata": {
  "kaggle": {
   "accelerator": "none",
   "dataSources": [
    {
     "datasetId": 7875839,
     "sourceId": 12515363,
     "sourceType": "datasetVersion"
    }
   ],
   "dockerImageVersionId": 31089,
   "isGpuEnabled": false,
   "isInternetEnabled": true,
   "language": "python",
   "sourceType": "notebook"
  },
  "kernelspec": {
   "display_name": "Python 3",
   "language": "python",
   "name": "python3"
  },
  "language_info": {
   "codemirror_mode": {
    "name": "ipython",
    "version": 3
   },
   "file_extension": ".py",
   "mimetype": "text/x-python",
   "name": "python",
   "nbconvert_exporter": "python",
   "pygments_lexer": "ipython3",
   "version": "3.13.3"
  }
 },
 "nbformat": 4,
 "nbformat_minor": 4
}
